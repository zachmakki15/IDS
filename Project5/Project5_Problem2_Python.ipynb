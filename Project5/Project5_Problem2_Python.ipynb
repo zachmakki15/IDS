{
  "nbformat": 4,
  "nbformat_minor": 0,
  "metadata": {
    "colab": {
      "name": "Untitled10.ipynb",
      "provenance": [],
      "collapsed_sections": [],
      "authorship_tag": "ABX9TyOqtizsfMFsLJV2XqZ3mW8a",
      "include_colab_link": true
    },
    "kernelspec": {
      "name": "python3",
      "display_name": "Python 3"
    },
    "language_info": {
      "name": "python"
    }
  },
  "cells": [
    {
      "cell_type": "markdown",
      "metadata": {
        "id": "view-in-github",
        "colab_type": "text"
      },
      "source": [
        "<a href=\"https://colab.research.google.com/github/zachmakki15/IDS/blob/main/Project5_Problem2_Python.ipynb\" target=\"_parent\"><img src=\"https://colab.research.google.com/assets/colab-badge.svg\" alt=\"Open In Colab\"/></a>"
      ]
    },
    {
      "cell_type": "markdown",
      "source": [
        "Zach Makki\n",
        "\n",
        "Intro Data Science\n",
        "\n",
        "Project #5\n",
        "\n",
        "Problem #2\n",
        "\n",
        "04/03/2022"
      ],
      "metadata": {
        "id": "tiTdYSXlBDl5"
      }
    },
    {
      "cell_type": "markdown",
      "source": [
        "#Problem 2 (Python Naive Bayes Model) "
      ],
      "metadata": {
        "id": "oPdsqYijkDJ1"
      }
    },
    {
      "cell_type": "markdown",
      "source": [
        "##Import the Dataset"
      ],
      "metadata": {
        "id": "SxIh_5nPkK1c"
      }
    },
    {
      "cell_type": "code",
      "execution_count": 18,
      "metadata": {
        "colab": {
          "base_uri": "https://localhost:8080/"
        },
        "id": "1w1Ij68gBDES",
        "outputId": "606d50aa-f523-483e-de10-85380f4f5344"
      },
      "outputs": [
        {
          "output_type": "stream",
          "name": "stdout",
          "text": [
            "<class 'pandas.core.frame.DataFrame'>\n",
            "RangeIndex: 3345 entries, 0 to 3344\n",
            "Data columns (total 3 columns):\n",
            " #   Column        Non-Null Count  Dtype \n",
            "---  ------        --------------  ----- \n",
            " 0   Type          3345 non-null   object\n",
            " 1   Alcohol_flag  3345 non-null   object\n",
            " 2   Sugar_flag    3345 non-null   object\n",
            "dtypes: object(3)\n",
            "memory usage: 78.5+ KB\n"
          ]
        }
      ],
      "source": [
        "#Import the needed python libs\n",
        "import matplotlib.pyplot as plt\n",
        "import pandas as pd\n",
        "import numpy as np\n",
        "import seaborn as sns\n",
        "\n",
        "#Import the dataset in python\n",
        "dataFrame = pd.read_csv(\"https://raw.githubusercontent.com/bforoura/IDS/main/HW5/wine_flag_all.csv\")\n",
        "dataFrame.info()"
      ]
    },
    {
      "cell_type": "code",
      "source": [
        "dataFrame.head()"
      ],
      "metadata": {
        "colab": {
          "base_uri": "https://localhost:8080/",
          "height": 206
        },
        "id": "_XsCeKgSBmN7",
        "outputId": "30894d5c-7953-49da-98aa-ec8f4dc39a86"
      },
      "execution_count": 19,
      "outputs": [
        {
          "output_type": "execute_result",
          "data": {
            "text/plain": [
              "  Type Alcohol_flag Sugar_flag\n",
              "0  Red         High       High\n",
              "1  Red         High        Low\n",
              "2  Red          Low       High\n",
              "3  Red         High        Low\n",
              "4  Red          Low        Low"
            ],
            "text/html": [
              "\n",
              "  <div id=\"df-9fa8dcab-03a4-4c6d-a4cd-b0b461b44d3c\">\n",
              "    <div class=\"colab-df-container\">\n",
              "      <div>\n",
              "<style scoped>\n",
              "    .dataframe tbody tr th:only-of-type {\n",
              "        vertical-align: middle;\n",
              "    }\n",
              "\n",
              "    .dataframe tbody tr th {\n",
              "        vertical-align: top;\n",
              "    }\n",
              "\n",
              "    .dataframe thead th {\n",
              "        text-align: right;\n",
              "    }\n",
              "</style>\n",
              "<table border=\"1\" class=\"dataframe\">\n",
              "  <thead>\n",
              "    <tr style=\"text-align: right;\">\n",
              "      <th></th>\n",
              "      <th>Type</th>\n",
              "      <th>Alcohol_flag</th>\n",
              "      <th>Sugar_flag</th>\n",
              "    </tr>\n",
              "  </thead>\n",
              "  <tbody>\n",
              "    <tr>\n",
              "      <th>0</th>\n",
              "      <td>Red</td>\n",
              "      <td>High</td>\n",
              "      <td>High</td>\n",
              "    </tr>\n",
              "    <tr>\n",
              "      <th>1</th>\n",
              "      <td>Red</td>\n",
              "      <td>High</td>\n",
              "      <td>Low</td>\n",
              "    </tr>\n",
              "    <tr>\n",
              "      <th>2</th>\n",
              "      <td>Red</td>\n",
              "      <td>Low</td>\n",
              "      <td>High</td>\n",
              "    </tr>\n",
              "    <tr>\n",
              "      <th>3</th>\n",
              "      <td>Red</td>\n",
              "      <td>High</td>\n",
              "      <td>Low</td>\n",
              "    </tr>\n",
              "    <tr>\n",
              "      <th>4</th>\n",
              "      <td>Red</td>\n",
              "      <td>Low</td>\n",
              "      <td>Low</td>\n",
              "    </tr>\n",
              "  </tbody>\n",
              "</table>\n",
              "</div>\n",
              "      <button class=\"colab-df-convert\" onclick=\"convertToInteractive('df-9fa8dcab-03a4-4c6d-a4cd-b0b461b44d3c')\"\n",
              "              title=\"Convert this dataframe to an interactive table.\"\n",
              "              style=\"display:none;\">\n",
              "        \n",
              "  <svg xmlns=\"http://www.w3.org/2000/svg\" height=\"24px\"viewBox=\"0 0 24 24\"\n",
              "       width=\"24px\">\n",
              "    <path d=\"M0 0h24v24H0V0z\" fill=\"none\"/>\n",
              "    <path d=\"M18.56 5.44l.94 2.06.94-2.06 2.06-.94-2.06-.94-.94-2.06-.94 2.06-2.06.94zm-11 1L8.5 8.5l.94-2.06 2.06-.94-2.06-.94L8.5 2.5l-.94 2.06-2.06.94zm10 10l.94 2.06.94-2.06 2.06-.94-2.06-.94-.94-2.06-.94 2.06-2.06.94z\"/><path d=\"M17.41 7.96l-1.37-1.37c-.4-.4-.92-.59-1.43-.59-.52 0-1.04.2-1.43.59L10.3 9.45l-7.72 7.72c-.78.78-.78 2.05 0 2.83L4 21.41c.39.39.9.59 1.41.59.51 0 1.02-.2 1.41-.59l7.78-7.78 2.81-2.81c.8-.78.8-2.07 0-2.86zM5.41 20L4 18.59l7.72-7.72 1.47 1.35L5.41 20z\"/>\n",
              "  </svg>\n",
              "      </button>\n",
              "      \n",
              "  <style>\n",
              "    .colab-df-container {\n",
              "      display:flex;\n",
              "      flex-wrap:wrap;\n",
              "      gap: 12px;\n",
              "    }\n",
              "\n",
              "    .colab-df-convert {\n",
              "      background-color: #E8F0FE;\n",
              "      border: none;\n",
              "      border-radius: 50%;\n",
              "      cursor: pointer;\n",
              "      display: none;\n",
              "      fill: #1967D2;\n",
              "      height: 32px;\n",
              "      padding: 0 0 0 0;\n",
              "      width: 32px;\n",
              "    }\n",
              "\n",
              "    .colab-df-convert:hover {\n",
              "      background-color: #E2EBFA;\n",
              "      box-shadow: 0px 1px 2px rgba(60, 64, 67, 0.3), 0px 1px 3px 1px rgba(60, 64, 67, 0.15);\n",
              "      fill: #174EA6;\n",
              "    }\n",
              "\n",
              "    [theme=dark] .colab-df-convert {\n",
              "      background-color: #3B4455;\n",
              "      fill: #D2E3FC;\n",
              "    }\n",
              "\n",
              "    [theme=dark] .colab-df-convert:hover {\n",
              "      background-color: #434B5C;\n",
              "      box-shadow: 0px 1px 3px 1px rgba(0, 0, 0, 0.15);\n",
              "      filter: drop-shadow(0px 1px 2px rgba(0, 0, 0, 0.3));\n",
              "      fill: #FFFFFF;\n",
              "    }\n",
              "  </style>\n",
              "\n",
              "      <script>\n",
              "        const buttonEl =\n",
              "          document.querySelector('#df-9fa8dcab-03a4-4c6d-a4cd-b0b461b44d3c button.colab-df-convert');\n",
              "        buttonEl.style.display =\n",
              "          google.colab.kernel.accessAllowed ? 'block' : 'none';\n",
              "\n",
              "        async function convertToInteractive(key) {\n",
              "          const element = document.querySelector('#df-9fa8dcab-03a4-4c6d-a4cd-b0b461b44d3c');\n",
              "          const dataTable =\n",
              "            await google.colab.kernel.invokeFunction('convertToInteractive',\n",
              "                                                     [key], {});\n",
              "          if (!dataTable) return;\n",
              "\n",
              "          const docLinkHtml = 'Like what you see? Visit the ' +\n",
              "            '<a target=\"_blank\" href=https://colab.research.google.com/notebooks/data_table.ipynb>data table notebook</a>'\n",
              "            + ' to learn more about interactive tables.';\n",
              "          element.innerHTML = '';\n",
              "          dataTable['output_type'] = 'display_data';\n",
              "          await google.colab.output.renderOutput(dataTable, element);\n",
              "          const docLink = document.createElement('div');\n",
              "          docLink.innerHTML = docLinkHtml;\n",
              "          element.appendChild(docLink);\n",
              "        }\n",
              "      </script>\n",
              "    </div>\n",
              "  </div>\n",
              "  "
            ]
          },
          "metadata": {},
          "execution_count": 19
        }
      ]
    },
    {
      "cell_type": "markdown",
      "source": [
        "##Check for Nulls and Evaluate Attribute Distribution"
      ],
      "metadata": {
        "id": "cwSK6OhNkO4g"
      }
    },
    {
      "cell_type": "markdown",
      "source": [
        "Lets examine the attributes distribution"
      ],
      "metadata": {
        "id": "FFwmld2NC5Ip"
      }
    },
    {
      "cell_type": "code",
      "source": [
        "#First check for nulls\n",
        "dataFrame.isnull().sum()"
      ],
      "metadata": {
        "colab": {
          "base_uri": "https://localhost:8080/"
        },
        "id": "X3tGQBm7XleZ",
        "outputId": "23d95f50-e62d-4087-ce57-30dd284c36c5"
      },
      "execution_count": 27,
      "outputs": [
        {
          "output_type": "execute_result",
          "data": {
            "text/plain": [
              "Type            0\n",
              "Alcohol_flag    0\n",
              "Sugar_flag      0\n",
              "dtype: int64"
            ]
          },
          "metadata": {},
          "execution_count": 27
        }
      ]
    },
    {
      "cell_type": "markdown",
      "source": [
        "No nulls can be found in this dataset, there is no need to impute."
      ],
      "metadata": {
        "id": "ROA6LQGuodUl"
      }
    },
    {
      "cell_type": "code",
      "source": [
        "#Alcohol attribute\n",
        "print(dataFrame['Alcohol_flag'].value_counts())\n",
        "dataFrame['Alcohol_flag'].value_counts().plot.bar()"
      ],
      "metadata": {
        "colab": {
          "base_uri": "https://localhost:8080/",
          "height": 347
        },
        "id": "HUGc45oMByng",
        "outputId": "c8355a85-245c-4836-afe8-48fcdb3b5989"
      },
      "execution_count": 20,
      "outputs": [
        {
          "output_type": "stream",
          "name": "stdout",
          "text": [
            "Low     1684\n",
            "High    1661\n",
            "Name: Alcohol_flag, dtype: int64\n"
          ]
        },
        {
          "output_type": "execute_result",
          "data": {
            "text/plain": [
              "<matplotlib.axes._subplots.AxesSubplot at 0x7fb994f06dd0>"
            ]
          },
          "metadata": {},
          "execution_count": 20
        },
        {
          "output_type": "display_data",
          "data": {
            "text/plain": [
              "<Figure size 432x288 with 1 Axes>"
            ],
            "image/png": "[encoded data removed]"
          },
          "metadata": {
            "needs_background": "light"
          }
        }
      ]
    },
    {
      "cell_type": "code",
      "source": [
        "#Sugar attribute\n",
        "print(dataFrame['Sugar_flag'].value_counts())\n",
        "dataFrame['Sugar_flag'].value_counts().plot.bar()"
      ],
      "metadata": {
        "colab": {
          "base_uri": "https://localhost:8080/",
          "height": 347
        },
        "id": "Oo9Z-cWuB7xF",
        "outputId": "098141cd-787f-49a2-9cbb-c59026c70399"
      },
      "execution_count": 21,
      "outputs": [
        {
          "output_type": "stream",
          "name": "stdout",
          "text": [
            "Low     1726\n",
            "High    1619\n",
            "Name: Sugar_flag, dtype: int64\n"
          ]
        },
        {
          "output_type": "execute_result",
          "data": {
            "text/plain": [
              "<matplotlib.axes._subplots.AxesSubplot at 0x7fb992d08310>"
            ]
          },
          "metadata": {},
          "execution_count": 21
        },
        {
          "output_type": "display_data",
          "data": {
            "text/plain": [
              "<Figure size 432x288 with 1 Axes>"
            ],
            "image/png": "[encoded data removed]"
          },
          "metadata": {
            "needs_background": "light"
          }
        }
      ]
    },
    {
      "cell_type": "code",
      "source": [
        "#Type (target)\n",
        "print(dataFrame['Type'].value_counts())\n",
        "dataFrame['Type'].value_counts().plot.bar()"
      ],
      "metadata": {
        "colab": {
          "base_uri": "https://localhost:8080/",
          "height": 353
        },
        "id": "lBv4lWYoCHS5",
        "outputId": "94022150-c495-4d13-9d9e-4eaad81561b1"
      },
      "execution_count": 22,
      "outputs": [
        {
          "output_type": "stream",
          "name": "stdout",
          "text": [
            "White    2260\n",
            "Red      1085\n",
            "Name: Type, dtype: int64\n"
          ]
        },
        {
          "output_type": "execute_result",
          "data": {
            "text/plain": [
              "<matplotlib.axes._subplots.AxesSubplot at 0x7fb992c472d0>"
            ]
          },
          "metadata": {},
          "execution_count": 22
        },
        {
          "output_type": "display_data",
          "data": {
            "text/plain": [
              "<Figure size 432x288 with 1 Axes>"
            ],
            "image/png": "[encoded data removed]"
          },
          "metadata": {
            "needs_background": "light"
          }
        }
      ]
    },
    {
      "cell_type": "markdown",
      "source": [
        "All of the attributes are well distributed except type which is skewed towards white wines."
      ],
      "metadata": {
        "id": "bWMd5ULqCY8Y"
      }
    },
    {
      "cell_type": "markdown",
      "source": [
        "##Encode Dataset"
      ],
      "metadata": {
        "id": "nHFmYFpHkcIE"
      }
    },
    {
      "cell_type": "markdown",
      "source": [
        "The dataset will be encoded using the scikit-learn ordinal encoder. "
      ],
      "metadata": {
        "id": "khPZv43DkeJl"
      }
    },
    {
      "cell_type": "code",
      "source": [
        "from sklearn.preprocessing import OrdinalEncoder\n",
        "myencoder = OrdinalEncoder()\n",
        "encoded_arr = myencoder.fit_transform(dataFrame)\n",
        "dataFrame_encoded = pd.DataFrame(encoded_arr, columns=dataFrame.columns, index=dataFrame.index)\n",
        "dataFrame_encoded.head()"
      ],
      "metadata": {
        "colab": {
          "base_uri": "https://localhost:8080/",
          "height": 206
        },
        "id": "8F5t-F55Cecy",
        "outputId": "7ef42f41-45fe-4948-a75e-98908dcb813a"
      },
      "execution_count": 24,
      "outputs": [
        {
          "output_type": "execute_result",
          "data": {
            "text/plain": [
              "   Type  Alcohol_flag  Sugar_flag\n",
              "0   0.0           0.0         0.0\n",
              "1   0.0           0.0         1.0\n",
              "2   0.0           1.0         0.0\n",
              "3   0.0           0.0         1.0\n",
              "4   0.0           1.0         1.0"
            ],
            "text/html": [
              "\n",
              "  <div id=\"df-2c6796f1-605e-4ecf-ac4a-e3a669e3d26c\">\n",
              "    <div class=\"colab-df-container\">\n",
              "      <div>\n",
              "<style scoped>\n",
              "    .dataframe tbody tr th:only-of-type {\n",
              "        vertical-align: middle;\n",
              "    }\n",
              "\n",
              "    .dataframe tbody tr th {\n",
              "        vertical-align: top;\n",
              "    }\n",
              "\n",
              "    .dataframe thead th {\n",
              "        text-align: right;\n",
              "    }\n",
              "</style>\n",
              "<table border=\"1\" class=\"dataframe\">\n",
              "  <thead>\n",
              "    <tr style=\"text-align: right;\">\n",
              "      <th></th>\n",
              "      <th>Type</th>\n",
              "      <th>Alcohol_flag</th>\n",
              "      <th>Sugar_flag</th>\n",
              "    </tr>\n",
              "  </thead>\n",
              "  <tbody>\n",
              "    <tr>\n",
              "      <th>0</th>\n",
              "      <td>0.0</td>\n",
              "      <td>0.0</td>\n",
              "      <td>0.0</td>\n",
              "    </tr>\n",
              "    <tr>\n",
              "      <th>1</th>\n",
              "      <td>0.0</td>\n",
              "      <td>0.0</td>\n",
              "      <td>1.0</td>\n",
              "    </tr>\n",
              "    <tr>\n",
              "      <th>2</th>\n",
              "      <td>0.0</td>\n",
              "      <td>1.0</td>\n",
              "      <td>0.0</td>\n",
              "    </tr>\n",
              "    <tr>\n",
              "      <th>3</th>\n",
              "      <td>0.0</td>\n",
              "      <td>0.0</td>\n",
              "      <td>1.0</td>\n",
              "    </tr>\n",
              "    <tr>\n",
              "      <th>4</th>\n",
              "      <td>0.0</td>\n",
              "      <td>1.0</td>\n",
              "      <td>1.0</td>\n",
              "    </tr>\n",
              "  </tbody>\n",
              "</table>\n",
              "</div>\n",
              "      <button class=\"colab-df-convert\" onclick=\"convertToInteractive('df-2c6796f1-605e-4ecf-ac4a-e3a669e3d26c')\"\n",
              "              title=\"Convert this dataframe to an interactive table.\"\n",
              "              style=\"display:none;\">\n",
              "        \n",
              "  <svg xmlns=\"http://www.w3.org/2000/svg\" height=\"24px\"viewBox=\"0 0 24 24\"\n",
              "       width=\"24px\">\n",
              "    <path d=\"M0 0h24v24H0V0z\" fill=\"none\"/>\n",
              "    <path d=\"M18.56 5.44l.94 2.06.94-2.06 2.06-.94-2.06-.94-.94-2.06-.94 2.06-2.06.94zm-11 1L8.5 8.5l.94-2.06 2.06-.94-2.06-.94L8.5 2.5l-.94 2.06-2.06.94zm10 10l.94 2.06.94-2.06 2.06-.94-2.06-.94-.94-2.06-.94 2.06-2.06.94z\"/><path d=\"M17.41 7.96l-1.37-1.37c-.4-.4-.92-.59-1.43-.59-.52 0-1.04.2-1.43.59L10.3 9.45l-7.72 7.72c-.78.78-.78 2.05 0 2.83L4 21.41c.39.39.9.59 1.41.59.51 0 1.02-.2 1.41-.59l7.78-7.78 2.81-2.81c.8-.78.8-2.07 0-2.86zM5.41 20L4 18.59l7.72-7.72 1.47 1.35L5.41 20z\"/>\n",
              "  </svg>\n",
              "      </button>\n",
              "      \n",
              "  <style>\n",
              "    .colab-df-container {\n",
              "      display:flex;\n",
              "      flex-wrap:wrap;\n",
              "      gap: 12px;\n",
              "    }\n",
              "\n",
              "    .colab-df-convert {\n",
              "      background-color: #E8F0FE;\n",
              "      border: none;\n",
              "      border-radius: 50%;\n",
              "      cursor: pointer;\n",
              "      display: none;\n",
              "      fill: #1967D2;\n",
              "      height: 32px;\n",
              "      padding: 0 0 0 0;\n",
              "      width: 32px;\n",
              "    }\n",
              "\n",
              "    .colab-df-convert:hover {\n",
              "      background-color: #E2EBFA;\n",
              "      box-shadow: 0px 1px 2px rgba(60, 64, 67, 0.3), 0px 1px 3px 1px rgba(60, 64, 67, 0.15);\n",
              "      fill: #174EA6;\n",
              "    }\n",
              "\n",
              "    [theme=dark] .colab-df-convert {\n",
              "      background-color: #3B4455;\n",
              "      fill: #D2E3FC;\n",
              "    }\n",
              "\n",
              "    [theme=dark] .colab-df-convert:hover {\n",
              "      background-color: #434B5C;\n",
              "      box-shadow: 0px 1px 3px 1px rgba(0, 0, 0, 0.15);\n",
              "      filter: drop-shadow(0px 1px 2px rgba(0, 0, 0, 0.3));\n",
              "      fill: #FFFFFF;\n",
              "    }\n",
              "  </style>\n",
              "\n",
              "      <script>\n",
              "        const buttonEl =\n",
              "          document.querySelector('#df-2c6796f1-605e-4ecf-ac4a-e3a669e3d26c button.colab-df-convert');\n",
              "        buttonEl.style.display =\n",
              "          google.colab.kernel.accessAllowed ? 'block' : 'none';\n",
              "\n",
              "        async function convertToInteractive(key) {\n",
              "          const element = document.querySelector('#df-2c6796f1-605e-4ecf-ac4a-e3a669e3d26c');\n",
              "          const dataTable =\n",
              "            await google.colab.kernel.invokeFunction('convertToInteractive',\n",
              "                                                     [key], {});\n",
              "          if (!dataTable) return;\n",
              "\n",
              "          const docLinkHtml = 'Like what you see? Visit the ' +\n",
              "            '<a target=\"_blank\" href=https://colab.research.google.com/notebooks/data_table.ipynb>data table notebook</a>'\n",
              "            + ' to learn more about interactive tables.';\n",
              "          element.innerHTML = '';\n",
              "          dataTable['output_type'] = 'display_data';\n",
              "          await google.colab.output.renderOutput(dataTable, element);\n",
              "          const docLink = document.createElement('div');\n",
              "          docLink.innerHTML = docLinkHtml;\n",
              "          element.appendChild(docLink);\n",
              "        }\n",
              "      </script>\n",
              "    </div>\n",
              "  </div>\n",
              "  "
            ]
          },
          "metadata": {},
          "execution_count": 24
        }
      ]
    },
    {
      "cell_type": "markdown",
      "source": [
        "For Type, 0 = Red, 1 = White\n",
        "\n",
        "For Alcohol, 0 = High, 1 = Low\n",
        "\n",
        "For Sugar, 0 = High, 1 = Low"
      ],
      "metadata": {
        "id": "1PDRrdSky0M9"
      }
    },
    {
      "cell_type": "markdown",
      "source": [
        "##Cross-Tabulations"
      ],
      "metadata": {
        "id": "qaZFex5xkmxD"
      }
    },
    {
      "cell_type": "markdown",
      "source": [
        "Cross tabulations will be made for Type and Alcohol flag, as well as Type and Sugar_Flag."
      ],
      "metadata": {
        "id": "t6E35jaQkp0g"
      }
    },
    {
      "cell_type": "code",
      "source": [
        "crossTab = pd.crosstab(dataFrame['Type'], dataFrame['Alcohol_flag'])\n",
        "print(crossTab)\n",
        "pythonBarPlot = crossTab.plot.bar(figsize=(10,5))"
      ],
      "metadata": {
        "colab": {
          "base_uri": "https://localhost:8080/",
          "height": 423
        },
        "id": "QQKxHRbzF6Zv",
        "outputId": "d20bfeb8-2b9c-41a2-e0a5-99f5ac8f669c"
      },
      "execution_count": 23,
      "outputs": [
        {
          "output_type": "stream",
          "name": "stdout",
          "text": [
            "Alcohol_flag  High   Low\n",
            "Type                    \n",
            "Red            485   600\n",
            "White         1176  1084\n"
          ]
        },
        {
          "output_type": "display_data",
          "data": {
            "text/plain": [
              "<Figure size 720x360 with 1 Axes>"
            ],
            "image/png": "[encoded data removed]"
          },
          "metadata": {
            "needs_background": "light"
          }
        }
      ]
    },
    {
      "cell_type": "markdown",
      "source": [
        "Reds with high alcohol = 485\n",
        "\n",
        "Reds with low alcohol = 600\n",
        "\n",
        "Whites with high alcohol = 1176\n",
        "\n",
        "Whites with low alcohol = 1084\n",
        "\n",
        "Probability of Red w/high alcohol = 485/1085 = 44.7%\n",
        "\n",
        "Probability of Red w/low alcohol = 600/1085 = 55.3%\n",
        "\n",
        "Probability of White w/high alcohol = 1176/2260 = 52%\n",
        "\n",
        "Probability of White w/low alcohol = 1084/2260 = 48%"
      ],
      "metadata": {
        "id": "_ZfsTBsWzfWj"
      }
    },
    {
      "cell_type": "code",
      "source": [
        "crossTab = pd.crosstab(dataFrame['Type'], dataFrame['Sugar_flag'])\n",
        "print(crossTab)\n",
        "pythonBarPlot = crossTab.plot.bar(figsize=(10,5))"
      ],
      "metadata": {
        "colab": {
          "base_uri": "https://localhost:8080/",
          "height": 423
        },
        "id": "jnRyF3wMGY-e",
        "outputId": "733f24bf-f32e-47a3-efa9-c6a16cfbfd43"
      },
      "execution_count": 25,
      "outputs": [
        {
          "output_type": "stream",
          "name": "stdout",
          "text": [
            "Sugar_flag  High  Low\n",
            "Type                 \n",
            "Red          237  848\n",
            "White       1382  878\n"
          ]
        },
        {
          "output_type": "display_data",
          "data": {
            "text/plain": [
              "<Figure size 720x360 with 1 Axes>"
            ],
            "image/png": "[encoded data removed]"
          },
          "metadata": {
            "needs_background": "light"
          }
        }
      ]
    },
    {
      "cell_type": "markdown",
      "source": [
        "Reds with high sugar = 237\n",
        "\n",
        "Reds with low sugar = 848\n",
        "\n",
        "Whites with high sugar = 1382\n",
        "\n",
        "Whites with low sugar = 878\n",
        "\n",
        "Probability of red w/high sugar = 237/1085 = 21.8%\n",
        "\n",
        "Probability of red w/low sugar = 848/1085 = 78.2%\n",
        "\n",
        "Probability of white w/high sugar = 1382/2260 = 61.2%\n",
        "\n",
        "Probability of white w/low sugar = 878/2260 = 38.8%"
      ],
      "metadata": {
        "id": "5CauAeaQ0OC8"
      }
    },
    {
      "cell_type": "markdown",
      "source": [
        "##Calculate Probabilties"
      ],
      "metadata": {
        "id": "FyePQ1udk0ka"
      }
    },
    {
      "cell_type": "markdown",
      "source": [
        "7)\n",
        "\n",
        "**a)**\n",
        "\n",
        "Prior probability of red = number of reds/number of total wines = 1085/3345 = 32.4%\n",
        "\n",
        "Prior probability of white = number of whites/number of total wines = 2260/3345 = 67.6%\n",
        "\n",
        "****\n",
        "\n",
        "**b)**\n",
        "\n",
        "Probability of high sugar content = total number of highs/total number of rows = 1619/3345 = 48.4%\n",
        "\n",
        "Probability of low sugar content = total number of lows/total number of rows = 1726/3345 = 51.2%\n",
        "\n",
        "****\n",
        "\n",
        "**c)**\n",
        "\n",
        "Probability of high alcohol content = total number of highs/total number of rows = 1661/3345 = 49.7%\n",
        "\n",
        "Probability of low alcohol content = total number of lows/total number of rows = 1684/3345 = 50.3%\n",
        "\n",
        "****\n",
        "\n",
        "**d)**\n",
        "\n",
        "p(Alcohol_flag = High ∣ Type = Red) = p(Red|High)*p(High)/p(Red) \n",
        "\n",
        "p(Red|High) = .447\n",
        "\n",
        "p(High) = .497\n",
        "\n",
        "p(Red) = .324\n",
        "\n",
        "= (.447 * .497)/.324 = 0.686 = 68.6%\n",
        "\n",
        "****\n",
        "\n",
        "**e)**\n",
        "\n",
        "p(Sugar_Flag = Low | Type = Red) = p(Red|Low)*p(Low)/p(Red)\n",
        "\n",
        "p(Red|Low) = .782\n",
        "\n",
        "p(Low) = .512\n",
        "\n",
        "p(Red) = .324\n",
        "\n",
        "= (.782 * .512)/.324 = 1.23 = 123% (not sure if I made a mistake, this number should most likley not be above 100)\n"
      ],
      "metadata": {
        "id": "QspdBKJA9kQS"
      }
    },
    {
      "cell_type": "markdown",
      "source": [
        "The results above show the probabilities displayed through the cross tabulations and the attribute distributions displayed earlier in this report. The results of the first conditional probability show that there is a 68.6% percent chance that if the alcohol content is high then the type is red. The second conditional probability is where I am slightly confused, the results are over 100% which seems out of range. It does make sense though that the conditional probability for: if the sugar content is low then the type is red, would be high since the results of the cross tabulation show that over 70% of the red wine samples in this dataset have low sugar content. "
      ],
      "metadata": {
        "id": "n9hRvNgyk4t6"
      }
    },
    {
      "cell_type": "markdown",
      "source": [
        "##Naive Bayes Models"
      ],
      "metadata": {
        "id": "n6CPu2XNl7WM"
      }
    },
    {
      "cell_type": "markdown",
      "source": [
        "Naive Bayes models from scikit-learn will be used to further analyze this dataset. Multiple models will be trained for multiple train/test splits such as 80/20, 75/25, 70/30..., these models will then be compared based on their training and testing scores in hope to find the best train/test split."
      ],
      "metadata": {
        "id": "b4iKb1gWl9qR"
      }
    },
    {
      "cell_type": "code",
      "source": [
        "from sklearn.naive_bayes import GaussianNB\n",
        "from sklearn.model_selection import train_test_split\n",
        "\n",
        "x = dataFrame_encoded.drop(columns=['Type'], axis = 1)\n",
        "y = dataFrame_encoded['Type']\n",
        "\n",
        "NBmodel = GaussianNB()\n",
        "#70/30 split\n",
        "x_Train, x_Test, y_Train, y_Test = train_test_split(x, y, random_state=42, shuffle=True, test_size=0.30, stratify=y)\n",
        "NBmodel.fit(x_Train, y_Train)\n",
        "model1_trainScore = NBmodel.score(x_Train, y_Train)\n",
        "model1_testScore = NBmodel.score(x_Test, y_Test)\n",
        "\n",
        "#75/25 split\n",
        "x_Train, x_Test, y_Train, y_Test = train_test_split(x, y, random_state=42, shuffle=True, test_size=0.25, stratify=y)\n",
        "NBmodel.fit(x_Train, y_Train)\n",
        "model2_trainScore = NBmodel.score(x_Train, y_Train)\n",
        "model2_testScore = NBmodel.score(x_Test, y_Test)\n",
        "\n",
        "#80/20 split\n",
        "x_Train, x_Test, y_Train, y_Test = train_test_split(x, y, random_state=42, shuffle=True, test_size=0.20, stratify=y)\n",
        "NBmodel.fit(x_Train, y_Train)\n",
        "model3_trainScore = NBmodel.score(x_Train, y_Train)\n",
        "model3_testScore = NBmodel.score(x_Test, y_Test)\n",
        "\n",
        "#60/40\n",
        "x_Train, x_Test, y_Train, y_Test = train_test_split(x, y, random_state=42, shuffle=True, test_size=0.40, stratify=y)\n",
        "NBmodel.fit(x_Train, y_Train)\n",
        "model4_trainScore = NBmodel.score(x_Train, y_Train)\n",
        "model4_testScore = NBmodel.score(x_Test, y_Test)\n",
        "\n",
        "#50/50 split\n",
        "x_Train, x_Test, y_Train, y_Test = train_test_split(x, y, random_state=42, shuffle=True, test_size=0.40, stratify=y)\n",
        "NBmodel.fit(x_Train, y_Train)\n",
        "model5_trainScore = NBmodel.score(x_Train, y_Train)\n",
        "model5_testScore = NBmodel.score(x_Test, y_Test)"
      ],
      "metadata": {
        "id": "MymvLPuKPxhM"
      },
      "execution_count": 29,
      "outputs": []
    },
    {
      "cell_type": "code",
      "source": [
        "#Graph Data\n",
        "labels = ['80/20', '75/25', '70/30', '60/40', '50/50']\n",
        "values = [model3_trainScore, model2_trainScore, model1_trainScore, model4_trainScore, model5_trainScore]\n",
        "\n",
        "x = np.arange(len(labels))\n",
        "width = 0.25\n",
        "\n",
        "fig, ax = plt.subplots()\n",
        "rects1 = ax.bar(x + width/2, values, width, label='Training Scores', color='lime')\n",
        "\n",
        "ax.set_ylabel('NB Model Accuracy')\n",
        "ax.set_xticks(x)\n",
        "ax.set_ylim(0,1)\n",
        "ax.set_xticklabels(labels)\n",
        "ax.legend(bbox_to_anchor = (1.4, 1.0), loc='upper right')\n",
        "\n",
        "plt.title('Naive Bayes Training Model Accuracy')\n",
        "plt.show()"
      ],
      "metadata": {
        "colab": {
          "base_uri": "https://localhost:8080/",
          "height": 281
        },
        "id": "VHY09a--YVsr",
        "outputId": "8a7fd701-5ac5-4ac5-c424-0b6968d74768"
      },
      "execution_count": 35,
      "outputs": [
        {
          "output_type": "display_data",
          "data": {
            "text/plain": [
              "<Figure size 432x288 with 1 Axes>"
            ],
            "image/png": "[encoded data removed]"
          },
          "metadata": {
            "needs_background": "light"
          }
        }
      ]
    },
    {
      "cell_type": "code",
      "source": [
        "test_values = [model3_testScore, model2_testScore, model1_testScore, model4_testScore, model5_testScore]\n",
        "\n",
        "x = np.arange(len(labels))\n",
        "width = 0.25\n",
        "\n",
        "fig, ax = plt.subplots()\n",
        "rects1 = ax.bar(x + width/2, values, width, label='Testing Scores', color='pink')\n",
        "\n",
        "ax.set_ylabel('NB Model Accuracy')\n",
        "ax.set_xticks(x)\n",
        "ax.set_ylim(0,1)\n",
        "ax.set_xticklabels(labels)\n",
        "ax.legend(bbox_to_anchor = (1.4, 1.0), loc='upper right')\n",
        "\n",
        "plt.title('Naive Bayes Testing Model Accuracy')\n",
        "plt.show()"
      ],
      "metadata": {
        "colab": {
          "base_uri": "https://localhost:8080/",
          "height": 281
        },
        "id": "QMlJ7LNYf2cu",
        "outputId": "daa15b37-8801-4d0f-d96f-6666eb9f2fa6"
      },
      "execution_count": 34,
      "outputs": [
        {
          "output_type": "display_data",
          "data": {
            "text/plain": [
              "<Figure size 432x288 with 1 Axes>"
            ],
            "image/png": "[encoded data removed]"
          },
          "metadata": {
            "needs_background": "light"
          }
        }
      ]
    },
    {
      "cell_type": "markdown",
      "source": [
        "##Summary"
      ],
      "metadata": {
        "id": "IcQBMT21nKls"
      }
    },
    {
      "cell_type": "markdown",
      "source": [
        "Naive Bayes models were trained using the wine dataset to see if a predicition can wine type (white or red) can be made based on alcohol and sugar content. Multiple models were trained using different train/test split sizes, the sizes are as follows, 80/20, 75/25, 70/30, 60/40, and 50/50. The purpose of doing this is to find the split size that will yield the highest model accuracy scores. \n",
        "\n",
        "The results show that the train and test scores are about the same for each train/test split tested in this report. The average results of the model are decent with training accuracy scores around 73.5% and testing accuracy scores around 72%. While the differences between the train/test splits are very small, if forced to choose one it seems that the 70/30 split for this dataset is the best choice. "
      ],
      "metadata": {
        "id": "CtQfCyyamlWe"
      }
    }
  ]
}
