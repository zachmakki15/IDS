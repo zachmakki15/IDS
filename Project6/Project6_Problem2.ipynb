{
  "nbformat": 4,
  "nbformat_minor": 0,
  "metadata": {
    "colab": {
      "name": "Untitled12.ipynb",
      "provenance": [],
      "authorship_tag": "ABX9TyPqsDcGWaGuVdsM7RtfNZhZ",
      "include_colab_link": true
    },
    "kernelspec": {
      "name": "python3",
      "display_name": "Python 3"
    },
    "language_info": {
      "name": "python"
    }
  },
  "cells": [
    {
      "cell_type": "markdown",
      "metadata": {
        "id": "view-in-github",
        "colab_type": "text"
      },
      "source": [
        "<a href=\"https://colab.research.google.com/github/zachmakki15/IDS/blob/main/Project6_Problem2.ipynb\" target=\"_parent\"><img src=\"https://colab.research.google.com/assets/colab-badge.svg\" alt=\"Open In Colab\"/></a>"
      ]
    },
    {
      "cell_type": "markdown",
      "source": [
        "Zach Makki\n",
        "\n",
        "Intro Data Science\n",
        "\n",
        "Project #6\n",
        "\n",
        "Problem #2\n",
        "\n",
        "04/17/2022"
      ],
      "metadata": {
        "id": "WL5s5QK59aOL"
      }
    },
    {
      "cell_type": "markdown",
      "source": [
        "#Problem #2 (R Decision Tree Model)"
      ],
      "metadata": {
        "id": "iGsfyFp_9ep9"
      }
    },
    {
      "cell_type": "code",
      "source": [
        "%load_ext rpy2.ipython"
      ],
      "metadata": {
        "id": "GvcwVJpb-Ebt"
      },
      "execution_count": 1,
      "outputs": []
    },
    {
      "cell_type": "markdown",
      "source": [
        "##Import Dataset"
      ],
      "metadata": {
        "id": "qiKg05az9xEa"
      }
    },
    {
      "cell_type": "code",
      "execution_count": 2,
      "metadata": {
        "colab": {
          "base_uri": "https://localhost:8080/"
        },
        "id": "kvlXCXHW6dVZ",
        "outputId": "6a54c339-3fcc-42cc-ce72-26ac9b7de667"
      },
      "outputs": [
        {
          "output_type": "stream",
          "name": "stdout",
          "text": [
            "# A tibble: 6 × 5\n",
            "  Approval `Debt-to-Income Ratio` `FICO Score` `Request Amount` Interest\n",
            "  <lgl>                     <dbl>        <dbl>            <dbl>    <dbl>\n",
            "1 FALSE                         0          397             1000      450\n",
            "2 FALSE                         0          403              500      225\n",
            "3 FALSE                         0          408             1000      450\n",
            "4 FALSE                         0          408             2000      900\n",
            "5 FALSE                         0          411             5000     2250\n",
            "6 FALSE                         0          413             5000     2250\n"
          ]
        }
      ],
      "source": [
        "#Import the dataset in R\n",
        "%%R\n",
        "\n",
        "library(readr)\n",
        "rDataFrame_Train <- read_csv(\"https://raw.githubusercontent.com/bforoura/IDS/main/HW6/Loans_Training.csv\", show_col_types = FALSE)\n",
        "rDataFrame_Test <- read_csv(\"https://raw.githubusercontent.com/bforoura/IDS/main/HW6/Loans_Test.csv\", show_col_types = FALSE)\n",
        "\n",
        "#Examine top of training data\n",
        "head(rDataFrame_Train)"
      ]
    },
    {
      "cell_type": "code",
      "source": [
        "%%R\n",
        "\n",
        "#Examine top of test data\n",
        "head(rDataFrame_Test)"
      ],
      "metadata": {
        "colab": {
          "base_uri": "https://localhost:8080/"
        },
        "id": "crV_lExt-xZ4",
        "outputId": "21195634-3cb5-4634-bdb8-fbab591f5f78"
      },
      "execution_count": 3,
      "outputs": [
        {
          "output_type": "stream",
          "name": "stdout",
          "text": [
            "# A tibble: 6 × 5\n",
            "  Approval `Debt-to-Income Ratio` `FICO Score` `Request Amount` Interest\n",
            "  <lgl>                     <dbl>        <dbl>            <dbl>    <dbl>\n",
            "1 FALSE                         0          413             2000      900\n",
            "2 FALSE                         0          449             1000      450\n",
            "3 FALSE                         0          454             6000     2700\n",
            "4 FALSE                         0          456             1000      450\n",
            "5 FALSE                         0          457             1000      450\n",
            "6 FALSE                         0          457             8000     3600\n"
          ]
        }
      ]
    },
    {
      "cell_type": "markdown",
      "source": [
        "The dataset is pre split into testing and training sets, data visualization will be done on both datasets."
      ],
      "metadata": {
        "id": "UCaso74LCmTh"
      }
    },
    {
      "cell_type": "markdown",
      "source": [
        "##Data Visualization"
      ],
      "metadata": {
        "id": "xHeQTaqqCCwJ"
      }
    },
    {
      "cell_type": "code",
      "source": [
        "%%R\n",
        "\n",
        "#Summarize training data\n",
        "summary(rDataFrame_Train)"
      ],
      "metadata": {
        "colab": {
          "base_uri": "https://localhost:8080/"
        },
        "id": "t7QYVxdEBazM",
        "outputId": "2499cb9a-5078-4f51-8c08-d6ff3b76e320"
      },
      "execution_count": 4,
      "outputs": [
        {
          "output_type": "stream",
          "name": "stdout",
          "text": [
            "  Approval       Debt-to-Income Ratio   FICO Score  Request Amount \n",
            " Mode :logical   Min.   :0.0000       Min.   :371   Min.   :  500  \n",
            " FALSE:75066     1st Qu.:0.0900       1st Qu.:647   1st Qu.: 6000  \n",
            " TRUE :75236     Median :0.1600       Median :684   Median :11000  \n",
            "                 Mean   :0.1835       Mean   :672   Mean   :13427  \n",
            "                 3rd Qu.:0.2400       3rd Qu.:714   3rd Qu.:19000  \n",
            "                 Max.   :1.0300       Max.   :869   Max.   :44000  \n",
            "    Interest    \n",
            " Min.   :  225  \n",
            " 1st Qu.: 2700  \n",
            " Median : 4950  \n",
            " Mean   : 6042  \n",
            " 3rd Qu.: 8550  \n",
            " Max.   :19800  \n"
          ]
        }
      ]
    },
    {
      "cell_type": "code",
      "source": [
        "%%R\n",
        "\n",
        "#Summarize testing data\n",
        "summary(rDataFrame_Test)"
      ],
      "metadata": {
        "colab": {
          "base_uri": "https://localhost:8080/"
        },
        "id": "poVfbAm2Bthc",
        "outputId": "c459fe94-af33-41e0-ad2a-7637be6097a1"
      },
      "execution_count": 5,
      "outputs": [
        {
          "output_type": "stream",
          "name": "stdout",
          "text": [
            "  Approval       Debt-to-Income Ratio   FICO Score    Request Amount \n",
            " Mode :logical   Min.   :0.0000       Min.   :372.0   Min.   :  500  \n",
            " FALSE:24934     1st Qu.:0.0900       1st Qu.:647.0   1st Qu.: 6000  \n",
            " TRUE :24764     Median :0.1600       Median :684.0   Median :11000  \n",
            "                 Mean   :0.1831       Mean   :672.3   Mean   :13413  \n",
            "                 3rd Qu.:0.2400       3rd Qu.:714.0   3rd Qu.:19000  \n",
            "                 Max.   :1.0500       Max.   :866.0   Max.   :42000  \n",
            "    Interest    \n",
            " Min.   :  225  \n",
            " 1st Qu.: 2700  \n",
            " Median : 4950  \n",
            " Mean   : 6036  \n",
            " 3rd Qu.: 8550  \n",
            " Max.   :18900  \n"
          ]
        }
      ]
    },
    {
      "cell_type": "markdown",
      "source": [
        "In both the training and testing sets the apporval attribute is well distributed between FALSE and TRUE. To examine the rest of the attributes distribution histograms will be used."
      ],
      "metadata": {
        "id": "aBTGWuV0C2Nc"
      }
    },
    {
      "cell_type": "code",
      "source": [
        "%%R\n",
        "\n",
        "#Show histograms of attributes\n",
        "hist(rDataFrame_Train[['Debt-to-Income Ratio']])\n",
        "hist(rDataFrame_Train[['FICO Score']])\n",
        "hist(rDataFrame_Train[['Request Amount']])\n",
        "hist(rDataFrame_Train[['Interest']])"
      ],
      "metadata": {
        "colab": {
          "base_uri": "https://localhost:8080/",
          "height": 1000
        },
        "id": "QdmKbjy8dTtD",
        "outputId": "fb0f502e-b1f5-4a7f-9677-bce4d1b56fdd"
      },
      "execution_count": 6,
      "outputs": [
        {
          "output_type": "display_data",
          "data": {
            "image/png": "[encoded data removed]"
          },
          "metadata": {}
        },
        {
          "output_type": "display_data",
          "data": {
            "image/png": "[encoded data removed]"
          },
          "metadata": {}
        },
        {
          "output_type": "display_data",
          "data": {
            "image/png": "[encoded data removed]"
          },
          "metadata": {}
        },
        {
          "output_type": "display_data",
          "data": {
            "image/png": "[encoded data removed]"
          },
          "metadata": {}
        }
      ]
    },
    {
      "cell_type": "code",
      "source": [
        "%%R\n",
        "\n",
        "#Do the same for testing data\n",
        "hist(rDataFrame_Test[['Debt-to-Income Ratio']])\n",
        "hist(rDataFrame_Test[['FICO Score']])\n",
        "hist(rDataFrame_Test[['Request Amount']])\n",
        "hist(rDataFrame_Test[['Interest']])"
      ],
      "metadata": {
        "colab": {
          "base_uri": "https://localhost:8080/",
          "height": 1000
        },
        "id": "5aqwPREOefaH",
        "outputId": "bb21468f-83e5-498e-c6d7-456c9ce451c6"
      },
      "execution_count": 7,
      "outputs": [
        {
          "output_type": "display_data",
          "data": {
            "image/png": "[encoded data removed]"
          },
          "metadata": {}
        },
        {
          "output_type": "display_data",
          "data": {
            "image/png": "[encoded data removed]"
          },
          "metadata": {}
        },
        {
          "output_type": "display_data",
          "data": {
            "image/png": "[encoded data removed]"
          },
          "metadata": {}
        },
        {
          "output_type": "display_data",
          "data": {
            "image/png": "[encoded data removed]"
          },
          "metadata": {}
        }
      ]
    },
    {
      "cell_type": "markdown",
      "source": [
        "In both the training and the testing sets the distributions of each attribute are about the same. Of the attributes Debt-to-Income-Ratio, Request Amount, and Interest are left skewed while FICO score is slightly right skewed."
      ],
      "metadata": {
        "id": "9Q07adPOe3y9"
      }
    },
    {
      "cell_type": "markdown",
      "source": [
        "##Data Cleaning"
      ],
      "metadata": {
        "id": "x4FzHI7gfzkz"
      }
    },
    {
      "cell_type": "markdown",
      "source": [
        "First the datasets will be checked for nulls."
      ],
      "metadata": {
        "id": "KsFxfF-PDH0i"
      }
    },
    {
      "cell_type": "code",
      "source": [
        "%%R\n",
        "\n",
        "#Use cat print command to combine multiple strings in one print statement\n",
        "#Check training dataset for nulls\n",
        "cat(\"Approval: \", sum(is.na(rDataFrame_Train[[\"Approval\"]])), \"\\n\")\n",
        "cat(\"Debt-to-Income Ratio: \", sum(is.na(rDataFrame_Train[[\"Debt-to-Income Ratio\"]])), \"\\n\")\n",
        "cat(\"FICO Score: \", sum(is.na(rDataFrame_Train[[\"FICO Score\"]])), \"\\n\")\n",
        "cat(\"Request Amount: \", sum(is.na(rDataFrame_Train[[\"Request Amount\"]])), \"\\n\")\n",
        "cat(\"Interest: \", sum(is.na(rDataFrame_Train[[\"Interest\"]])), \"\\n\")"
      ],
      "metadata": {
        "colab": {
          "base_uri": "https://localhost:8080/"
        },
        "id": "GjSm6Ern-3y8",
        "outputId": "9a421247-cdd7-49a2-a78e-8ce93eb56ce4"
      },
      "execution_count": 8,
      "outputs": [
        {
          "output_type": "stream",
          "name": "stdout",
          "text": [
            "Approval:  0 \n",
            "Debt-to-Income Ratio:  0 \n",
            "FICO Score:  0 \n",
            "Request Amount:  0 \n",
            "Interest:  0 \n"
          ]
        }
      ]
    },
    {
      "cell_type": "code",
      "source": [
        "%%R\n",
        "\n",
        "#Check training dataset for nulls\n",
        "cat(\"Approval: \", sum(is.na(rDataFrame_Test[[\"Approval\"]])), \"\\n\")\n",
        "cat(\"Debt-to-Income Ratio: \", sum(is.na(rDataFrame_Test[[\"Debt-to-Income Ratio\"]])), \"\\n\")\n",
        "cat(\"FICO Score: \", sum(is.na(rDataFrame_Test[[\"FICO Score\"]])), \"\\n\")\n",
        "cat(\"Request Amount: \", sum(is.na(rDataFrame_Test[[\"Request Amount\"]])), \"\\n\")\n",
        "cat(\"Interest: \", sum(is.na(rDataFrame_Test[[\"Interest\"]])), \"\\n\")"
      ],
      "metadata": {
        "colab": {
          "base_uri": "https://localhost:8080/"
        },
        "id": "NWSkPcr9BVs-",
        "outputId": "ccba49da-18c0-4359-8187-0af001d44328"
      },
      "execution_count": 9,
      "outputs": [
        {
          "output_type": "stream",
          "name": "stdout",
          "text": [
            "Approval:  0 \n",
            "Debt-to-Income Ratio:  0 \n",
            "FICO Score:  0 \n",
            "Request Amount:  0 \n",
            "Interest:  0 \n"
          ]
        }
      ]
    },
    {
      "cell_type": "markdown",
      "source": [
        "There are no NULLS in either the training or testing dataset therefore no imputing is needed. The Target column Approval needs to be convereted to numeric categoric (ordinal). To do the encoding a function will be created to do a simple ordinal encoding of a categoric column."
      ],
      "metadata": {
        "id": "9lW6ofHpPkmM"
      }
    },
    {
      "cell_type": "code",
      "source": [
        "%%R\n",
        "\n",
        "#Ordinal encoding function\n",
        "encode_ordinal <- function(x, order = unique(x)) {\n",
        "  x <- as.numeric(factor(x, levels = order, exclude = NULL))\n",
        "  x\n",
        "}\n",
        "\n",
        "#Encode train approval\n",
        "rDataFrame_Train[['Approval']] = encode_ordinal(rDataFrame_Train[['Approval']])\n",
        "#Factorize train approval\n",
        "rDataFrame_Train[['Approval']] = factor(rDataFrame_Train[['Approval']])\n",
        "head(rDataFrame_Train)"
      ],
      "metadata": {
        "colab": {
          "base_uri": "https://localhost:8080/"
        },
        "id": "v9ysRm_aP51S",
        "outputId": "dcad3144-028b-4fee-8310-2f29fd33323e"
      },
      "execution_count": 10,
      "outputs": [
        {
          "output_type": "stream",
          "name": "stdout",
          "text": [
            "# A tibble: 6 × 5\n",
            "  Approval `Debt-to-Income Ratio` `FICO Score` `Request Amount` Interest\n",
            "  <fct>                     <dbl>        <dbl>            <dbl>    <dbl>\n",
            "1 1                             0          397             1000      450\n",
            "2 1                             0          403              500      225\n",
            "3 1                             0          408             1000      450\n",
            "4 1                             0          408             2000      900\n",
            "5 1                             0          411             5000     2250\n",
            "6 1                             0          413             5000     2250\n"
          ]
        }
      ]
    },
    {
      "cell_type": "code",
      "source": [
        "%%R\n",
        "\n",
        "#Show the dataset will approval encoded\n",
        "summary(rDataFrame_Train)"
      ],
      "metadata": {
        "colab": {
          "base_uri": "https://localhost:8080/"
        },
        "id": "_Z78ifDLa4jY",
        "outputId": "08e4a85a-3e90-4c04-a9ed-88d4a3123aed"
      },
      "execution_count": 11,
      "outputs": [
        {
          "output_type": "stream",
          "name": "stdout",
          "text": [
            " Approval  Debt-to-Income Ratio   FICO Score  Request Amount     Interest    \n",
            " 1:75066   Min.   :0.0000       Min.   :371   Min.   :  500   Min.   :  225  \n",
            " 2:75236   1st Qu.:0.0900       1st Qu.:647   1st Qu.: 6000   1st Qu.: 2700  \n",
            "           Median :0.1600       Median :684   Median :11000   Median : 4950  \n",
            "           Mean   :0.1835       Mean   :672   Mean   :13427   Mean   : 6042  \n",
            "           3rd Qu.:0.2400       3rd Qu.:714   3rd Qu.:19000   3rd Qu.: 8550  \n",
            "           Max.   :1.0300       Max.   :869   Max.   :44000   Max.   :19800  \n"
          ]
        }
      ]
    },
    {
      "cell_type": "code",
      "source": [
        "%%R\n",
        "\n",
        "#Do the same for testing data\n",
        "rDataFrame_Test[['Approval']] = encode_ordinal(rDataFrame_Test[['Approval']])\n",
        "rDataFrame_Test[['Approval']] = factor(rDataFrame_Test[['Approval']])\n",
        "head(rDataFrame_Test)"
      ],
      "metadata": {
        "colab": {
          "base_uri": "https://localhost:8080/"
        },
        "id": "eEtuAAcVbbCC",
        "outputId": "1a55a0d8-4616-4e58-9ff4-f34d101a644b"
      },
      "execution_count": 12,
      "outputs": [
        {
          "output_type": "stream",
          "name": "stdout",
          "text": [
            "# A tibble: 6 × 5\n",
            "  Approval `Debt-to-Income Ratio` `FICO Score` `Request Amount` Interest\n",
            "  <fct>                     <dbl>        <dbl>            <dbl>    <dbl>\n",
            "1 1                             0          413             2000      900\n",
            "2 1                             0          449             1000      450\n",
            "3 1                             0          454             6000     2700\n",
            "4 1                             0          456             1000      450\n",
            "5 1                             0          457             1000      450\n",
            "6 1                             0          457             8000     3600\n"
          ]
        }
      ]
    },
    {
      "cell_type": "code",
      "source": [
        "%%R\n",
        "\n",
        "#Show the dataset with approval encoded\n",
        "summary(rDataFrame_Test)"
      ],
      "metadata": {
        "colab": {
          "base_uri": "https://localhost:8080/"
        },
        "id": "5k5V87THcWvH",
        "outputId": "ad35acd2-8525-4606-a2d5-e48a37566e4b"
      },
      "execution_count": 13,
      "outputs": [
        {
          "output_type": "stream",
          "name": "stdout",
          "text": [
            " Approval  Debt-to-Income Ratio   FICO Score    Request Amount     Interest    \n",
            " 1:24934   Min.   :0.0000       Min.   :372.0   Min.   :  500   Min.   :  225  \n",
            " 2:24764   1st Qu.:0.0900       1st Qu.:647.0   1st Qu.: 6000   1st Qu.: 2700  \n",
            "           Median :0.1600       Median :684.0   Median :11000   Median : 4950  \n",
            "           Mean   :0.1831       Mean   :672.3   Mean   :13413   Mean   : 6036  \n",
            "           3rd Qu.:0.2400       3rd Qu.:714.0   3rd Qu.:19000   3rd Qu.: 8550  \n",
            "           Max.   :1.0500       Max.   :866.0   Max.   :42000   Max.   :18900  \n"
          ]
        }
      ]
    },
    {
      "cell_type": "markdown",
      "source": [
        "Now the approval attribute is encoded for both the training and testing set and the data is ready to be fed to a decision tree."
      ],
      "metadata": {
        "id": "y7oRCyEdf7ah"
      }
    },
    {
      "cell_type": "markdown",
      "source": [
        "##Decision Trees"
      ],
      "metadata": {
        "id": "N6TGHT9fj8h6"
      }
    },
    {
      "cell_type": "markdown",
      "source": [
        "To create decision trees the rpart library will be imported."
      ],
      "metadata": {
        "id": "sRCWQl0W8t6O"
      }
    },
    {
      "cell_type": "code",
      "source": [
        "%%R\n",
        "\n",
        "library(rpart)"
      ],
      "metadata": {
        "id": "45zYXENwoYso"
      },
      "execution_count": 14,
      "outputs": []
    },
    {
      "cell_type": "markdown",
      "source": [
        "rpart is used to build both gini and entropy (referred to as information) trees. By design rpart limits the depth of a tree as much as possible. To bypass this a parameter can be added cp=-1, but when this is added the tree becomes far to big to analyze with the fancyRpartPlot method. "
      ],
      "metadata": {
        "id": "GzmeA7Ie82bJ"
      }
    },
    {
      "cell_type": "code",
      "source": [
        "%%R\n",
        "\n",
        "#Create gini decision tree\n",
        "set.seed(42)\n",
        "giniTree <- rpart(\n",
        "  rDataFrame_Train[['Approval']] ~ rDataFrame_Train[['Debt-to-Income Ratio']] + rDataFrame_Train[['FICO Score']] \n",
        "  + rDataFrame_Train[['Request Amount']] + rDataFrame_Train[['Interest']], \n",
        "  data = rDataFrame_Train, \n",
        "  method = \"class\",\n",
        "  parms = list(split = \"gini\")\n",
        ")"
      ],
      "metadata": {
        "id": "N3y_M5Ruojc7"
      },
      "execution_count": 36,
      "outputs": []
    },
    {
      "cell_type": "markdown",
      "source": [
        "The minbucket parameter is used to specify the min number of cases in a terminal node."
      ],
      "metadata": {
        "id": "F1bj7OuWB_Oz"
      }
    },
    {
      "cell_type": "code",
      "source": [
        "%%R\n",
        "\n",
        "#Create entropy decision tree\n",
        "entropyTree <- rpart(\n",
        "  rDataFrame_Train[['Approval']] ~ rDataFrame_Train[['Debt-to-Income Ratio']] + rDataFrame_Train[['FICO Score']] \n",
        "  + rDataFrame_Train[['Request Amount']] + rDataFrame_Train[['Interest']], \n",
        "  data = rDataFrame_Train, \n",
        "  method = \"class\",\n",
        "  parms = list(split = \"information\"),\n",
        "  minbucket = 1000\n",
        ")"
      ],
      "metadata": {
        "id": "r1AWaTwKw6pH"
      },
      "execution_count": 38,
      "outputs": []
    },
    {
      "cell_type": "markdown",
      "source": [
        "To better visualize the rpart decision trees the packages rpart.plot and rattle will be installed to gain access to the fancyRpartPlot method, which plots the decision tree in a readable way."
      ],
      "metadata": {
        "id": "VShqG0V0CKVs"
      }
    },
    {
      "cell_type": "code",
      "source": [
        "%%R\n",
        "\n",
        "install.packages(\"rpart.plot\")\n",
        "library(rpart.plot)"
      ],
      "metadata": {
        "colab": {
          "base_uri": "https://localhost:8080/"
        },
        "id": "I_wQqxpqyZGp",
        "outputId": "308b38cb-9554-4100-c92c-d1f635276412"
      },
      "execution_count": 17,
      "outputs": [
        {
          "output_type": "stream",
          "name": "stderr",
          "text": [
            "R[write to console]: Installing package into ‘/usr/local/lib/R/site-library’\n",
            "(as ‘lib’ is unspecified)\n",
            "\n",
            "R[write to console]: trying URL 'https://cran.rstudio.com/src/contrib/rpart.plot_3.1.0.tar.gz'\n",
            "\n",
            "R[write to console]: Content type 'application/x-gzip'\n",
            "R[write to console]:  length 672013 bytes (656 KB)\n",
            "\n",
            "R[write to console]: =\n",
            "R[write to console]: =\n",
            "R[write to console]: =\n",
            "R[write to console]: =\n",
            "R[write to console]: =\n",
            "R[write to console]: =\n",
            "R[write to console]: =\n",
            "R[write to console]: =\n",
            "R[write to console]: =\n",
            "R[write to console]: =\n",
            "R[write to console]: =\n",
            "R[write to console]: =\n",
            "R[write to console]: =\n",
            "R[write to console]: =\n",
            "R[write to console]: =\n",
            "R[write to console]: =\n",
            "R[write to console]: =\n",
            "R[write to console]: =\n",
            "R[write to console]: =\n",
            "R[write to console]: =\n",
            "R[write to console]: =\n",
            "R[write to console]: =\n",
            "R[write to console]: =\n",
            "R[write to console]: =\n",
            "R[write to console]: =\n",
            "R[write to console]: =\n",
            "R[write to console]: =\n",
            "R[write to console]: =\n",
            "R[write to console]: =\n",
            "R[write to console]: =\n",
            "R[write to console]: =\n",
            "R[write to console]: =\n",
            "R[write to console]: =\n",
            "R[write to console]: =\n",
            "R[write to console]: =\n",
            "R[write to console]: =\n",
            "R[write to console]: =\n",
            "R[write to console]: =\n",
            "R[write to console]: =\n",
            "R[write to console]: =\n",
            "R[write to console]: =\n",
            "R[write to console]: =\n",
            "R[write to console]: =\n",
            "R[write to console]: =\n",
            "R[write to console]: =\n",
            "R[write to console]: =\n",
            "R[write to console]: =\n",
            "R[write to console]: =\n",
            "R[write to console]: =\n",
            "R[write to console]: =\n",
            "R[write to console]: \n",
            "\n",
            "R[write to console]: downloaded 656 KB\n",
            "\n",
            "\n",
            "R[write to console]: \n",
            "\n",
            "R[write to console]: \n",
            "R[write to console]: The downloaded source packages are in\n",
            "\t‘/tmp/RtmpmWUYzb/downloaded_packages’\n",
            "R[write to console]: \n",
            "R[write to console]: \n",
            "\n"
          ]
        }
      ]
    },
    {
      "cell_type": "code",
      "source": [
        "%%R\n",
        "\n",
        "install.packages(\"rattle\")\n",
        "library(rattle)\n",
        "library(rpart.plot)\n",
        "library(RColorBrewer)"
      ],
      "metadata": {
        "colab": {
          "base_uri": "https://localhost:8080/"
        },
        "id": "VRWxw-ehzsvM",
        "outputId": "9cde9003-40d8-43dc-e664-677842b17162"
      },
      "execution_count": 18,
      "outputs": [
        {
          "output_type": "stream",
          "name": "stderr",
          "text": [
            "R[write to console]: Installing package into ‘/usr/local/lib/R/site-library’\n",
            "(as ‘lib’ is unspecified)\n",
            "\n",
            "R[write to console]: trying URL 'https://cran.rstudio.com/src/contrib/rattle_5.5.1.tar.gz'\n",
            "\n",
            "R[write to console]: Content type 'application/x-gzip'\n",
            "R[write to console]:  length 3904458 bytes (3.7 MB)\n",
            "\n",
            "R[write to console]: =\n",
            "R[write to console]: =\n",
            "R[write to console]: =\n",
            "R[write to console]: =\n",
            "R[write to console]: =\n",
            "R[write to console]: =\n",
            "R[write to console]: =\n",
            "R[write to console]: =\n",
            "R[write to console]: =\n",
            "R[write to console]: =\n",
            "R[write to console]: =\n",
            "R[write to console]: =\n",
            "R[write to console]: =\n",
            "R[write to console]: =\n",
            "R[write to console]: =\n",
            "R[write to console]: =\n",
            "R[write to console]: =\n",
            "R[write to console]: =\n",
            "R[write to console]: =\n",
            "R[write to console]: =\n",
            "R[write to console]: =\n",
            "R[write to console]: =\n",
            "R[write to console]: =\n",
            "R[write to console]: =\n",
            "R[write to console]: =\n",
            "R[write to console]: =\n",
            "R[write to console]: =\n",
            "R[write to console]: =\n",
            "R[write to console]: =\n",
            "R[write to console]: =\n",
            "R[write to console]: =\n",
            "R[write to console]: =\n",
            "R[write to console]: =\n",
            "R[write to console]: =\n",
            "R[write to console]: =\n",
            "R[write to console]: =\n",
            "R[write to console]: =\n",
            "R[write to console]: =\n",
            "R[write to console]: =\n",
            "R[write to console]: =\n",
            "R[write to console]: =\n",
            "R[write to console]: =\n",
            "R[write to console]: =\n",
            "R[write to console]: =\n",
            "R[write to console]: =\n",
            "R[write to console]: =\n",
            "R[write to console]: =\n",
            "R[write to console]: =\n",
            "R[write to console]: =\n",
            "R[write to console]: =\n",
            "R[write to console]: \n",
            "\n",
            "R[write to console]: downloaded 3.7 MB\n",
            "\n",
            "\n",
            "R[write to console]: \n",
            "\n",
            "R[write to console]: \n",
            "R[write to console]: The downloaded source packages are in\n",
            "\t‘/tmp/RtmpmWUYzb/downloaded_packages’\n",
            "R[write to console]: \n",
            "R[write to console]: \n",
            "\n",
            "R[write to console]: Loading required package: tibble\n",
            "\n",
            "R[write to console]: Loading required package: bitops\n",
            "\n",
            "R[write to console]: Rattle: A free graphical interface for data science with R.\n",
            "Version 5.5.1 Copyright (c) 2006-2021 Togaware Pty Ltd.\n",
            "Type 'rattle()' to shake, rattle, and roll your data.\n",
            "\n"
          ]
        }
      ]
    },
    {
      "cell_type": "markdown",
      "source": [
        "Now that the packages have been imported the trees will be visualized."
      ],
      "metadata": {
        "id": "KcDKZsw-CaaT"
      }
    },
    {
      "cell_type": "code",
      "source": [
        "%%R\n",
        "\n",
        "fancyRpartPlot(giniTree)"
      ],
      "metadata": {
        "colab": {
          "base_uri": "https://localhost:8080/",
          "height": 497
        },
        "id": "trjaNiAP0zzG",
        "outputId": "62fa9762-343d-4c18-fe62-4f1b601d6fe5"
      },
      "execution_count": 37,
      "outputs": [
        {
          "output_type": "display_data",
          "data": {
            "image/png": "[encoded data removed]"
          },
          "metadata": {}
        }
      ]
    },
    {
      "cell_type": "markdown",
      "source": [
        "The gini tree uses FICO score as its root node and splits on FICO score < 660. From there anything lesss then this number is classified as a 1. The next split is on FICO scores greater then 660 and Debt-to-Income Ratio >= .31. Anything over 0.31 is classified as a 1 while anything under it is classified as a 0."
      ],
      "metadata": {
        "id": "m_kR4ji09aAh"
      }
    },
    {
      "cell_type": "code",
      "source": [
        "%%R\n",
        "\n",
        "fancyRpartPlot(entropyTree)"
      ],
      "metadata": {
        "colab": {
          "base_uri": "https://localhost:8080/",
          "height": 497
        },
        "id": "oDxHZPvS0Y1X",
        "outputId": "62eeb2c5-92c8-4661-86d2-f71061029b7d"
      },
      "execution_count": 39,
      "outputs": [
        {
          "output_type": "display_data",
          "data": {
            "image/png": "[encoded data removed]"
          },
          "metadata": {}
        }
      ]
    },
    {
      "cell_type": "markdown",
      "source": [
        "The results for the entropy tree are almost identical to that of the gini tree. The only difference is in the gini tree the splitting critiera for the root node FICO score was 660 while in the entropy tree it is 657. The other difference is in the splitting critiera for Debt-to-Income ratio, in the gini tree it was 0.31 while in the entropy it is 0.32. "
      ],
      "metadata": {
        "id": "pBdQLhNx-Ebb"
      }
    },
    {
      "cell_type": "code",
      "source": [
        "%%R\n",
        "\n",
        "#Get training accuracy\n",
        "printcp(giniTree)"
      ],
      "metadata": {
        "colab": {
          "base_uri": "https://localhost:8080/"
        },
        "id": "9lUfb9lf0_Yw",
        "outputId": "5cd55722-df8d-497a-d81e-472036bf2042"
      },
      "execution_count": 30,
      "outputs": [
        {
          "output_type": "stream",
          "name": "stdout",
          "text": [
            "\n",
            "Classification tree:\n",
            "rpart(formula = rDataFrame_Train[[\"Approval\"]] ~ rDataFrame_Train[[\"Debt-to-Income Ratio\"]] + \n",
            "    rDataFrame_Train[[\"FICO Score\"]] + rDataFrame_Train[[\"Request Amount\"]] + \n",
            "    rDataFrame_Train[[\"Interest\"]], data = rDataFrame_Train, \n",
            "    method = \"class\", parms = list(split = \"gini\"), minsplit = 2)\n",
            "\n",
            "Variables actually used in tree construction:\n",
            "[1] rDataFrame_Train[[\"Debt-to-Income Ratio\"]]\n",
            "[2] rDataFrame_Train[[\"FICO Score\"]]          \n",
            "\n",
            "Root node error: 75066/150302 = 0.49943\n",
            "\n",
            "n= 150302 \n",
            "\n",
            "       CP nsplit rel error  xerror      xstd\n",
            "1 0.56465      0   1.00000 1.00226 0.0025823\n",
            "2 0.12676      1   0.43535 0.43535 0.0021304\n",
            "3 0.01000      2   0.30860 0.30946 0.0018669\n"
          ]
        }
      ]
    },
    {
      "cell_type": "markdown",
      "source": [
        "By default the rpart decision tree runs cross folds validation on itself, the table at the bottom of the print statement displays statistics from that cross validation, with the most important being rel_error which is the relative error of the fold. In the final fold of the gini tree the relative error is 0.3086 or about 31%."
      ],
      "metadata": {
        "id": "LuKCU9B2-i09"
      }
    },
    {
      "cell_type": "code",
      "source": [
        "%%R\n",
        "\n",
        "#Get training accuracy\n",
        "printcp(entropyTree)"
      ],
      "metadata": {
        "colab": {
          "base_uri": "https://localhost:8080/"
        },
        "id": "UD8rl88o7ZFE",
        "outputId": "bfc96f94-9ee8-4f7c-c4ce-026c0077666d"
      },
      "execution_count": 31,
      "outputs": [
        {
          "output_type": "stream",
          "name": "stdout",
          "text": [
            "\n",
            "Classification tree:\n",
            "rpart(formula = rDataFrame_Train[[\"Approval\"]] ~ rDataFrame_Train[[\"Debt-to-Income Ratio\"]] + \n",
            "    rDataFrame_Train[[\"FICO Score\"]] + rDataFrame_Train[[\"Request Amount\"]] + \n",
            "    rDataFrame_Train[[\"Interest\"]], data = rDataFrame_Train, \n",
            "    method = \"class\", parms = list(split = \"information\"), minsplit = 2, \n",
            "    minbucket = 1000)\n",
            "\n",
            "Variables actually used in tree construction:\n",
            "[1] rDataFrame_Train[[\"Debt-to-Income Ratio\"]]\n",
            "[2] rDataFrame_Train[[\"FICO Score\"]]          \n",
            "\n",
            "Root node error: 75066/150302 = 0.49943\n",
            "\n",
            "n= 150302 \n",
            "\n",
            "       CP nsplit rel error  xerror      xstd\n",
            "1 0.55377      0   1.00000 1.00000 0.0025823\n",
            "2 0.13033      1   0.44623 0.44623 0.0021494\n",
            "3 0.01000      2   0.31591 0.31591 0.0018827\n"
          ]
        }
      ]
    },
    {
      "cell_type": "markdown",
      "source": [
        "In the entropy tree the cross validation relative error is also about 31%."
      ],
      "metadata": {
        "id": "6X2sOIUw_dgc"
      }
    },
    {
      "cell_type": "markdown",
      "source": [
        "##Summary\n",
        "\n",
        "In summary both the gini decision tree which did not specify a minimum bucket (minimum cases per terminal node) and the entropy tree which did were almost identical, with the only difference being slight varaitions in the numeric values to split on as described above. This could be due to multiple reasons, this dataset may be simple and the difference between entropy and gini makes no difference as it is obvious that FICO score will always be the root, it could also be due to the library I choose to use for creating the decision tree. Rpart seemeed like a popular choose from the research I did, but it could be doing something that I am unaware of which is causing the entropy and gini trees to be the same. "
      ],
      "metadata": {
        "id": "tbPXrwsu_9D5"
      }
    }
  ]
}
