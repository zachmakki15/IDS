{
  "nbformat": 4,
  "nbformat_minor": 0,
  "metadata": {
    "colab": {
      "name": "Untitled7.ipynb",
      "provenance": [],
      "collapsed_sections": [],
      "authorship_tag": "ABX9TyOipB0OYFNnW/2gpc5Kptpo",
      "include_colab_link": true
    },
    "kernelspec": {
      "name": "python3",
      "display_name": "Python 3"
    },
    "language_info": {
      "name": "python"
    }
  },
  "cells": [
    {
      "cell_type": "markdown",
      "metadata": {
        "id": "view-in-github",
        "colab_type": "text"
      },
      "source": [
        "<a href=\"https://colab.research.google.com/github/zachmakki15/IDS/blob/main/Project4_Problem1.ipynb\" target=\"_parent\"><img src=\"https://colab.research.google.com/assets/colab-badge.svg\" alt=\"Open In Colab\"/></a>"
      ]
    },
    {
      "cell_type": "markdown",
      "source": [
        "Zach Makki\n",
        "\n",
        "Intro Data Science\n",
        "\n",
        "Project #4\n",
        "\n",
        "Problem #1\n",
        "\n",
        "03/20/2022"
      ],
      "metadata": {
        "id": "KxZAXhSz39Gr"
      }
    },
    {
      "cell_type": "markdown",
      "source": [
        "Allow for mix of python and R code"
      ],
      "metadata": {
        "id": "_F_xct3CpS-W"
      }
    },
    {
      "cell_type": "code",
      "source": [
        "%load_ext rpy2.ipython"
      ],
      "metadata": {
        "id": "TP9sw-VmeZIg"
      },
      "execution_count": 3,
      "outputs": []
    },
    {
      "cell_type": "markdown",
      "source": [
        "#Problem 1"
      ],
      "metadata": {
        "id": "v6c-3AsCpXbI"
      }
    },
    {
      "cell_type": "markdown",
      "source": [
        "##Import Dataset"
      ],
      "metadata": {
        "id": "d0Ups51Dpd3K"
      }
    },
    {
      "cell_type": "markdown",
      "source": [
        "Import the dataset using pandas in python and dataframe in R"
      ],
      "metadata": {
        "id": "IefHLeEZe05z"
      }
    },
    {
      "cell_type": "code",
      "execution_count": 1,
      "metadata": {
        "id": "ylAu7fyQ32SP",
        "colab": {
          "base_uri": "https://localhost:8080/"
        },
        "outputId": "b7c827a5-047d-4072-8d89-29dd1e123c0e"
      },
      "outputs": [
        {
          "output_type": "stream",
          "name": "stdout",
          "text": [
            "<class 'pandas.core.frame.DataFrame'>\n",
            "RangeIndex: 14797 entries, 0 to 14796\n",
            "Data columns (total 9 columns):\n",
            " #   Column          Non-Null Count  Dtype \n",
            "---  ------          --------------  ----- \n",
            " 0   age             14797 non-null  int64 \n",
            " 1   workclass       14797 non-null  object\n",
            " 2   education       14797 non-null  int64 \n",
            " 3   marital-status  14797 non-null  object\n",
            " 4   occupation      14797 non-null  object\n",
            " 5   sex             14797 non-null  object\n",
            " 6   capital-gain    14797 non-null  int64 \n",
            " 7   capital-loss    14797 non-null  int64 \n",
            " 8   income          14797 non-null  object\n",
            "dtypes: int64(4), object(5)\n",
            "memory usage: 1.0+ MB\n"
          ]
        }
      ],
      "source": [
        "#Import the needed python libs\n",
        "import matplotlib.pyplot as plt\n",
        "import pandas as pd\n",
        "import numpy as np\n",
        "import seaborn as sns\n",
        "\n",
        "#Import the dataset in python\n",
        "dataFrame = pd.read_csv(\"https://raw.githubusercontent.com/bforoura/IDS/main/HW4/adult_training.csv\")\n",
        "dataFrame.info()"
      ]
    },
    {
      "cell_type": "code",
      "source": [
        "#Import the dataset in R\n",
        "%%R\n",
        "\n",
        "library(readr)\n",
        "rDataFrame <- read_csv(\"https://raw.githubusercontent.com/bforoura/IDS/main/HW4/adult_training.csv\", show_col_types = FALSE)\n",
        "summary(rDataFrame)"
      ],
      "metadata": {
        "colab": {
          "base_uri": "https://localhost:8080/"
        },
        "id": "kwkBW0_dZtAM",
        "outputId": "da3642a7-89af-42d7-bad9-1c87916cfbc7"
      },
      "execution_count": 4,
      "outputs": [
        {
          "output_type": "stream",
          "name": "stdout",
          "text": [
            "      age         workclass           education     marital-status    \n",
            " Min.   :17.00   Length:14797       Min.   : 1.00   Length:14797      \n",
            " 1st Qu.:28.00   Class :character   1st Qu.: 9.00   Class :character  \n",
            " Median :37.00   Mode  :character   Median :10.00   Mode  :character  \n",
            " Mean   :38.69                      Mean   :10.07                     \n",
            " 3rd Qu.:48.00                      3rd Qu.:12.00                     \n",
            " Max.   :90.00                      Max.   :16.00                     \n",
            "  occupation            sex             capital-gain    capital-loss    \n",
            " Length:14797       Length:14797       Min.   :    0   Min.   :   0.00  \n",
            " Class :character   Class :character   1st Qu.:    0   1st Qu.:   0.00  \n",
            " Mode  :character   Mode  :character   Median :    0   Median :   0.00  \n",
            "                                       Mean   : 1067   Mean   :  88.58  \n",
            "                                       3rd Qu.:    0   3rd Qu.:   0.00  \n",
            "                                       Max.   :99999   Max.   :4356.00  \n",
            "    income         \n",
            " Length:14797      \n",
            " Class :character  \n",
            " Mode  :character  \n",
            "                   \n",
            "                   \n",
            "                   \n"
          ]
        }
      ]
    },
    {
      "cell_type": "markdown",
      "source": [
        "##Workclass and Sex Contingency Table Bar Plot"
      ],
      "metadata": {
        "id": "6MuwWW-UphVy"
      }
    },
    {
      "cell_type": "markdown",
      "source": [
        "Display a bar graph of a cross tabulation between the workclass and sex attributes in both Python and R"
      ],
      "metadata": {
        "id": "VrOj0w7Pe8L3"
      }
    },
    {
      "cell_type": "code",
      "source": [
        "#Python\n",
        "dataFrame['workclass'].value_counts()"
      ],
      "metadata": {
        "colab": {
          "base_uri": "https://localhost:8080/"
        },
        "id": "DmAwI-ZNjCoc",
        "outputId": "73f3f159-6b46-43c4-a341-c4173b9bd2a7"
      },
      "execution_count": 5,
      "outputs": [
        {
          "output_type": "execute_result",
          "data": {
            "text/plain": [
              "Private             10281\n",
              "Self-emp-not-inc     1170\n",
              "Local-gov             969\n",
              "?                     829\n",
              "State-gov             586\n",
              "Self-emp-inc          498\n",
              "Federal-gov           454\n",
              "Without-pay             5\n",
              "Never-worked            5\n",
              "Name: workclass, dtype: int64"
            ]
          },
          "metadata": {},
          "execution_count": 5
        }
      ]
    },
    {
      "cell_type": "code",
      "source": [
        "#Python contingency table\n",
        "crossTab = pd.crosstab(dataFrame.workclass, dataFrame.sex)\n",
        "pythonBarPlot = crossTab.plot.bar(figsize=(10,5))"
      ],
      "metadata": {
        "colab": {
          "base_uri": "https://localhost:8080/",
          "height": 408
        },
        "id": "UHQWpD-lY6S6",
        "outputId": "d42c94fa-9da9-4c83-b14f-f91ee1d67f98"
      },
      "execution_count": 6,
      "outputs": [
        {
          "output_type": "display_data",
          "data": {
            "text/plain": [
              "<Figure size 720x360 with 1 Axes>"
            ],
            "image/png": "[encoded data removed]"
          },
          "metadata": {
            "needs_background": "light"
          }
        }
      ]
    },
    {
      "cell_type": "code",
      "source": [
        "#R contingency table\n",
        "%%R\n",
        "\n",
        "rCrossTab <- table(rDataFrame$sex, rDataFrame$workclass)\n",
        "colors <- c(\"grey\", \"navy\")\n",
        "\n",
        "barplot(rCrossTab, col = colors, ylab=\"Counts\", las = 2, beside = TRUE)\n",
        "legend(\"topleft\", legend = c(\"Female\", \"Male\"), fill = colors)"
      ],
      "metadata": {
        "colab": {
          "base_uri": "https://localhost:8080/",
          "height": 497
        },
        "id": "GLMJzs10Y__f",
        "outputId": "17fe4b21-e95c-4d30-a19e-a794f0e3a705"
      },
      "execution_count": 7,
      "outputs": [
        {
          "output_type": "display_data",
          "data": {
            "image/png": "[encoded data removed]"
          },
          "metadata": {}
        }
      ]
    },
    {
      "cell_type": "markdown",
      "source": [
        "The results of the graph show that the the category Private makes up a large portion of the workclass attribute, and that the gender attribute is not evenly distributed between male and female with there being more entries for male then female. Overall not much can be taken from this cross tabulation other then the majority of samples in this dataset work in the private sector and are male."
      ],
      "metadata": {
        "id": "bADWHHXRfzbr"
      }
    },
    {
      "cell_type": "markdown",
      "source": [
        "##Sex and Marital Status Contingency Table Bar Plot"
      ],
      "metadata": {
        "id": "Mdr_KSA1pxe8"
      }
    },
    {
      "cell_type": "markdown",
      "source": [
        "Display a bar graph of a cross tabulation between the sex and marital-status attributes in both Python and R"
      ],
      "metadata": {
        "id": "ry8rHrY9hA4u"
      }
    },
    {
      "cell_type": "code",
      "source": [
        "#Python contingency table\n",
        "crossTab = pd.crosstab(dataFrame['sex'], dataFrame['marital-status'])\n",
        "pythonBarPlot = crossTab.plot.bar(figsize=(15,7))"
      ],
      "metadata": {
        "colab": {
          "base_uri": "https://localhost:8080/",
          "height": 469
        },
        "id": "c4Q5bEW_n1AB",
        "outputId": "21d009f6-013b-4e2b-9b53-273adb5bd2eb"
      },
      "execution_count": 8,
      "outputs": [
        {
          "output_type": "display_data",
          "data": {
            "text/plain": [
              "<Figure size 1080x504 with 1 Axes>"
            ],
            "image/png": "[encoded data removed]"
          },
          "metadata": {
            "needs_background": "light"
          }
        }
      ]
    },
    {
      "cell_type": "code",
      "source": [
        "dataFrame['marital-status'].value_counts()"
      ],
      "metadata": {
        "colab": {
          "base_uri": "https://localhost:8080/"
        },
        "id": "rbBvtQA3JUan",
        "outputId": "078d93a5-a4e6-463b-f974-d1d3b6c626c2"
      },
      "execution_count": 9,
      "outputs": [
        {
          "output_type": "execute_result",
          "data": {
            "text/plain": [
              "Married-civ-spouse       6771\n",
              "Never-married            4877\n",
              "Divorced                 2014\n",
              "Separated                 472\n",
              "Widowed                   453\n",
              "Married-spouse-absent     199\n",
              "Married-AF-spouse          11\n",
              "Name: marital-status, dtype: int64"
            ]
          },
          "metadata": {},
          "execution_count": 9
        }
      ]
    },
    {
      "cell_type": "code",
      "source": [
        "#R contingency table\n",
        "%%R\n",
        "\n",
        "rCrossTab <- table(rDataFrame[[\"marital-status\"]], rDataFrame$sex)\n",
        "colors <- c(\"blue\", \"orange\", \"green\", \"red\", \"purple\", \"brown\", \"pink\")\n",
        "\n",
        "barplot(rCrossTab, col = colors, beside = TRUE, xlab=\"Sex\", ylab=\"Counts\")\n",
        "legend(\"topleft\", legend = c(\"Divorced\", \"Married-AF-spouse\", \"Married-civ-spouse\", \"Married-spouse-absent\", \n",
        "                             \"Never-married\", \"Separated\", \"Widowed\"), fill = colors)"
      ],
      "metadata": {
        "colab": {
          "base_uri": "https://localhost:8080/",
          "height": 497
        },
        "id": "0qZ7tcn4GIxn",
        "outputId": "22d52a6d-4eef-4f76-9e53-bb19dba56024"
      },
      "execution_count": 10,
      "outputs": [
        {
          "output_type": "display_data",
          "data": {
            "image/png": "[encoded data removed]"
          },
          "metadata": {}
        }
      ]
    },
    {
      "cell_type": "markdown",
      "source": [
        "The bar graphs above show that in this dataset the majority of male are matrial status category Married-Civ-Spouse, while the majortiy of females are martial status category Never-Married. One hypothesis I have after seeing that is it is likely that the average age of females in this dataset is slightly lower then the avergae age of the males."
      ],
      "metadata": {
        "id": "JbY1V6iDiB5J"
      }
    },
    {
      "cell_type": "markdown",
      "source": [
        "##Get all values over 40, re-create last contingency table"
      ],
      "metadata": {
        "id": "1sAgft4gp4eO"
      }
    },
    {
      "cell_type": "markdown",
      "source": [
        "The last cross tabulation bar plot will be re-plotted this time with only samples in the dataset that have an age greater then 40."
      ],
      "metadata": {
        "id": "8gJyGRrjjMR0"
      }
    },
    {
      "cell_type": "code",
      "source": [
        "#Python create new data frame\n",
        "dataFrame_over40 = dataFrame.query('age > 40')\n",
        "dataFrame_over40.info()"
      ],
      "metadata": {
        "colab": {
          "base_uri": "https://localhost:8080/"
        },
        "id": "vFMi951yLLRu",
        "outputId": "db74ef34-cb19-496c-f7b6-886c8f59b79f"
      },
      "execution_count": 11,
      "outputs": [
        {
          "output_type": "stream",
          "name": "stdout",
          "text": [
            "<class 'pandas.core.frame.DataFrame'>\n",
            "Int64Index: 6144 entries, 0 to 14795\n",
            "Data columns (total 9 columns):\n",
            " #   Column          Non-Null Count  Dtype \n",
            "---  ------          --------------  ----- \n",
            " 0   age             6144 non-null   int64 \n",
            " 1   workclass       6144 non-null   object\n",
            " 2   education       6144 non-null   int64 \n",
            " 3   marital-status  6144 non-null   object\n",
            " 4   occupation      6144 non-null   object\n",
            " 5   sex             6144 non-null   object\n",
            " 6   capital-gain    6144 non-null   int64 \n",
            " 7   capital-loss    6144 non-null   int64 \n",
            " 8   income          6144 non-null   object\n",
            "dtypes: int64(4), object(5)\n",
            "memory usage: 480.0+ KB\n"
          ]
        }
      ]
    },
    {
      "cell_type": "code",
      "source": [
        "#R create new data frame\n",
        "%%R\n",
        "\n",
        "rDataFrame_over40 = subset(rDataFrame, age > 40)\n",
        "summary(rDataFrame_over40)"
      ],
      "metadata": {
        "colab": {
          "base_uri": "https://localhost:8080/"
        },
        "id": "y_4ZOPViMgQ5",
        "outputId": "7b3f8f16-1661-4fa9-ca42-86237a5a22bb"
      },
      "execution_count": 12,
      "outputs": [
        {
          "output_type": "stream",
          "name": "stdout",
          "text": [
            "      age         workclass           education     marital-status    \n",
            " Min.   :41.00   Length:6144        Min.   : 1.00   Length:6144       \n",
            " 1st Qu.:45.00   Class :character   1st Qu.: 9.00   Class :character  \n",
            " Median :50.00   Mode  :character   Median :10.00   Mode  :character  \n",
            " Mean   :52.08                      Mean   :10.15                     \n",
            " 3rd Qu.:57.00                      3rd Qu.:13.00                     \n",
            " Max.   :90.00                      Max.   :16.00                     \n",
            "  occupation            sex             capital-gain    capital-loss   \n",
            " Length:6144        Length:6144        Min.   :    0   Min.   :   0.0  \n",
            " Class :character   Class :character   1st Qu.:    0   1st Qu.:   0.0  \n",
            " Mode  :character   Mode  :character   Median :    0   Median :   0.0  \n",
            "                                       Mean   : 1598   Mean   : 115.3  \n",
            "                                       3rd Qu.:    0   3rd Qu.:   0.0  \n",
            "                                       Max.   :99999   Max.   :4356.0  \n",
            "    income         \n",
            " Length:6144       \n",
            " Class :character  \n",
            " Mode  :character  \n",
            "                   \n",
            "                   \n",
            "                   \n"
          ]
        }
      ]
    },
    {
      "cell_type": "code",
      "source": [
        "dataFrame_over40['marital-status'].value_counts()"
      ],
      "metadata": {
        "colab": {
          "base_uri": "https://localhost:8080/"
        },
        "id": "QzNghJlOO6gA",
        "outputId": "e793b77e-e16b-4ccf-d79b-f59fc6f2e24e"
      },
      "execution_count": 13,
      "outputs": [
        {
          "output_type": "execute_result",
          "data": {
            "text/plain": [
              "Married-civ-spouse       3688\n",
              "Divorced                 1168\n",
              "Never-married             571\n",
              "Widowed                   425\n",
              "Separated                 207\n",
              "Married-spouse-absent      85\n",
              "Name: marital-status, dtype: int64"
            ]
          },
          "metadata": {},
          "execution_count": 13
        }
      ]
    },
    {
      "cell_type": "code",
      "source": [
        "#Python contiegency table using over 40 data\n",
        "crossTab_over40 = pd.crosstab(dataFrame_over40['sex'], dataFrame_over40['marital-status'])\n",
        "pythonBarPlot_over40 = crossTab_over40.plot.bar(figsize=(15,7))"
      ],
      "metadata": {
        "colab": {
          "base_uri": "https://localhost:8080/",
          "height": 469
        },
        "id": "gUttn1BFNxlN",
        "outputId": "d7ac83e6-f08e-4047-c8ac-a60a889c227a"
      },
      "execution_count": 14,
      "outputs": [
        {
          "output_type": "display_data",
          "data": {
            "text/plain": [
              "<Figure size 1080x504 with 1 Axes>"
            ],
            "image/png": "[encoded data removed]"
          },
          "metadata": {
            "needs_background": "light"
          }
        }
      ]
    },
    {
      "cell_type": "code",
      "source": [
        "#R contingency table\n",
        "%%R\n",
        "\n",
        "rCrossTab <- table(rDataFrame_over40[[\"marital-status\"]], rDataFrame_over40$sex)\n",
        "colors <- c(\"blue\", \"orange\", \"green\", \"red\", \"purple\", \"brown\")\n",
        "\n",
        "barplot(rCrossTab, col = colors, beside = TRUE, xlab=\"Sex\", ylab=\"Counts\")\n",
        "legend(\"topleft\", legend = c(\"Divorced\", \"Married-civ-spouse\", \"Married-spouse-absent\", \n",
        "                             \"Never-married\", \"Separated\", \"Widowed\"), fill = colors)"
      ],
      "metadata": {
        "colab": {
          "base_uri": "https://localhost:8080/",
          "height": 497
        },
        "id": "0DHhUAudPFcP",
        "outputId": "16e4f976-3e3e-4103-90e3-509e78122b22"
      },
      "execution_count": 15,
      "outputs": [
        {
          "output_type": "display_data",
          "data": {
            "image/png": "[encoded data removed]"
          },
          "metadata": {}
        }
      ]
    },
    {
      "cell_type": "markdown",
      "source": [
        "The results of this graph somewhat reinforces my thoughts from the previous graph. The overwhelming majority of samples in this dataset over the age of 40 are male martial status Married-Civ-Spouse. The lack of samples over 40 which are female could make the results of any study done on this data to be more representivtive of older males then females. "
      ],
      "metadata": {
        "id": "E0tsNfs5km0u"
      }
    },
    {
      "cell_type": "markdown",
      "source": [
        "##Education Attribute Outliers\n",
        "\n"
      ],
      "metadata": {
        "id": "mbgpsqrOqB3o"
      }
    },
    {
      "cell_type": "markdown",
      "source": [
        "To find outliers in an attribute it is easier to first normalize the attribute using the standard scalar, this then allows the user to identify outliers simply be searching for values greater then three or less then neagtive three. "
      ],
      "metadata": {
        "id": "MaJxvWAfkxSU"
      }
    },
    {
      "cell_type": "code",
      "source": [
        "dataFrame['education'].value_counts().plot.bar()"
      ],
      "metadata": {
        "colab": {
          "base_uri": "https://localhost:8080/",
          "height": 289
        },
        "id": "eEW1sYQwPgO1",
        "outputId": "7a7f39be-ab1e-4384-a0de-38ae8196e681"
      },
      "execution_count": 16,
      "outputs": [
        {
          "output_type": "execute_result",
          "data": {
            "text/plain": [
              "<matplotlib.axes._subplots.AxesSubplot at 0x7f6f0348b150>"
            ]
          },
          "metadata": {},
          "execution_count": 16
        },
        {
          "output_type": "display_data",
          "data": {
            "text/plain": [
              "<Figure size 432x288 with 1 Axes>"
            ],
            "image/png": "[encoded data removed]"
          },
          "metadata": {
            "needs_background": "light"
          }
        }
      ]
    },
    {
      "cell_type": "code",
      "source": [
        "#Identify outliers in education column, python\n",
        "#To best idenitfy outliers first normalize column with standard scalar\n",
        "from sklearn.preprocessing import StandardScaler\n",
        "myscalar = StandardScaler()\n",
        "education_norm = myscalar.fit_transform(np.array(dataFrame['education']).reshape(-1,1))\n",
        "\n",
        "#Identify the outliers\n",
        "dataFrame['education_scaled'] = pd.DataFrame(education_norm)\n",
        "df_ed_outliers = dataFrame.query('education_scaled > 3 | education_scaled < -3')\n",
        "df_ed_outliers.info()"
      ],
      "metadata": {
        "colab": {
          "base_uri": "https://localhost:8080/"
        },
        "id": "6kxbhncAQaWn",
        "outputId": "1db610b7-6749-4db7-f768-edd8434c8df6"
      },
      "execution_count": 17,
      "outputs": [
        {
          "output_type": "stream",
          "name": "stdout",
          "text": [
            "<class 'pandas.core.frame.DataFrame'>\n",
            "Int64Index: 113 entries, 72 to 14724\n",
            "Data columns (total 10 columns):\n",
            " #   Column            Non-Null Count  Dtype  \n",
            "---  ------            --------------  -----  \n",
            " 0   age               113 non-null    int64  \n",
            " 1   workclass         113 non-null    object \n",
            " 2   education         113 non-null    int64  \n",
            " 3   marital-status    113 non-null    object \n",
            " 4   occupation        113 non-null    object \n",
            " 5   sex               113 non-null    object \n",
            " 6   capital-gain      113 non-null    int64  \n",
            " 7   capital-loss      113 non-null    int64  \n",
            " 8   income            113 non-null    object \n",
            " 9   education_scaled  113 non-null    float64\n",
            "dtypes: float64(1), int64(4), object(5)\n",
            "memory usage: 9.7+ KB\n"
          ]
        }
      ]
    },
    {
      "cell_type": "markdown",
      "source": [
        "The results above show that 113 outliers were identified in the education attribute."
      ],
      "metadata": {
        "id": "QR26ODXGlOtQ"
      }
    },
    {
      "cell_type": "code",
      "source": [
        "#R Identify outliers in education column\n",
        "#To best idenitfy outliers first normalize column with scale\n",
        "%%R\n",
        "\n",
        "rDataFrame$scaled_education <- scale(x = rDataFrame$education)\n",
        "rDataFrame_educationOutliers <- subset(rDataFrame, scaled_education > 3 | scaled_education < -3)\n",
        "summary(rDataFrame_educationOutliers)"
      ],
      "metadata": {
        "colab": {
          "base_uri": "https://localhost:8080/"
        },
        "id": "AIqvmKjJZ_El",
        "outputId": "32fd1ede-f3e0-4fe6-db16-764137fb3d0d"
      },
      "execution_count": 18,
      "outputs": [
        {
          "output_type": "stream",
          "name": "stdout",
          "text": [
            "      age         workclass           education     marital-status    \n",
            " Min.   :19.00   Length:113         Min.   :1.000   Length:113        \n",
            " 1st Qu.:33.00   Class :character   1st Qu.:2.000   Class :character  \n",
            " Median :46.00   Mode  :character   Median :2.000   Mode  :character  \n",
            " Mean   :45.87                      Mean   :1.788                     \n",
            " 3rd Qu.:57.00                      3rd Qu.:2.000                     \n",
            " Max.   :90.00                      Max.   :2.000                     \n",
            "  occupation            sex             capital-gain      capital-loss    \n",
            " Length:113         Length:113         Min.   :    0.0   Min.   :   0.00  \n",
            " Class :character   Class :character   1st Qu.:    0.0   1st Qu.:   0.00  \n",
            " Mode  :character   Mode  :character   Median :    0.0   Median :   0.00  \n",
            "                                       Mean   :  539.5   Mean   :  63.47  \n",
            "                                       3rd Qu.:    0.0   3rd Qu.:   0.00  \n",
            "                                       Max.   :41310.0   Max.   :2179.00  \n",
            "    income          scaled_education.V1\n",
            " Length:113         Min.   :-3.490285  \n",
            " Class :character   1st Qu.:-3.105418  \n",
            " Mode  :character   Median :-3.105418  \n",
            "                    Mean   :-3.187160  \n",
            "                    3rd Qu.:-3.105418  \n",
            "                    Max.   :-3.105418  \n"
          ]
        }
      ]
    },
    {
      "cell_type": "markdown",
      "source": [
        "Using the scale command in R we can confirm that there are 113 outliers in the education attribute. These results also show that the outliers are all less then negative three, indicating that all the outliers in this dataset are on the lower end (much less then the average)"
      ],
      "metadata": {
        "id": "0dN-LHn_lXPM"
      }
    },
    {
      "cell_type": "markdown",
      "source": [
        "##Age Attribute Outliers"
      ],
      "metadata": {
        "id": "Yjyd5ksmqcdg"
      }
    },
    {
      "cell_type": "markdown",
      "source": [
        "The same thing will now be done for the age attribute."
      ],
      "metadata": {
        "id": "404K4SiIk4r3"
      }
    },
    {
      "cell_type": "code",
      "source": [
        "dataFrame['age'].hist(bins=73)"
      ],
      "metadata": {
        "colab": {
          "base_uri": "https://localhost:8080/",
          "height": 283
        },
        "id": "4UL3Mz3Bc67N",
        "outputId": "3afc046b-20a7-4c62-9477-be731d2da86b"
      },
      "execution_count": 19,
      "outputs": [
        {
          "output_type": "execute_result",
          "data": {
            "text/plain": [
              "<matplotlib.axes._subplots.AxesSubplot at 0x7f6f02c4ae90>"
            ]
          },
          "metadata": {},
          "execution_count": 19
        },
        {
          "output_type": "display_data",
          "data": {
            "text/plain": [
              "<Figure size 432x288 with 1 Axes>"
            ],
            "image/png": "[encoded data removed]"
          },
          "metadata": {
            "needs_background": "light"
          }
        }
      ]
    },
    {
      "cell_type": "code",
      "source": [
        "#Now do the same for the age attribute\n",
        "#Python\n",
        "myscalar = StandardScaler()\n",
        "age_norm = myscalar.fit_transform(np.array(dataFrame['age']).reshape(-1,1))\n",
        "\n",
        "#Identify the outliers\n",
        "dataFrame['age_scaled'] = pd.DataFrame(age_norm)\n",
        "df_age_outliers = dataFrame.query('age_scaled > 3 | age_scaled < -3')\n",
        "df_age_outliers.info()"
      ],
      "metadata": {
        "colab": {
          "base_uri": "https://localhost:8080/"
        },
        "id": "IVlmbPjOcQTi",
        "outputId": "da9c36d3-7e27-4bd0-f987-f07daac7940c"
      },
      "execution_count": 20,
      "outputs": [
        {
          "output_type": "stream",
          "name": "stdout",
          "text": [
            "<class 'pandas.core.frame.DataFrame'>\n",
            "Int64Index: 60 entries, 99 to 14766\n",
            "Data columns (total 11 columns):\n",
            " #   Column            Non-Null Count  Dtype  \n",
            "---  ------            --------------  -----  \n",
            " 0   age               60 non-null     int64  \n",
            " 1   workclass         60 non-null     object \n",
            " 2   education         60 non-null     int64  \n",
            " 3   marital-status    60 non-null     object \n",
            " 4   occupation        60 non-null     object \n",
            " 5   sex               60 non-null     object \n",
            " 6   capital-gain      60 non-null     int64  \n",
            " 7   capital-loss      60 non-null     int64  \n",
            " 8   income            60 non-null     object \n",
            " 9   education_scaled  60 non-null     float64\n",
            " 10  age_scaled        60 non-null     float64\n",
            "dtypes: float64(2), int64(4), object(5)\n",
            "memory usage: 5.6+ KB\n"
          ]
        }
      ]
    },
    {
      "cell_type": "markdown",
      "source": [
        "The results above show that 60 outliers were identified in the age attribute."
      ],
      "metadata": {
        "id": "octXsrUyl2SB"
      }
    },
    {
      "cell_type": "code",
      "source": [
        "#R\n",
        "%%R\n",
        "\n",
        "rDataFrame$scaled_age <- scale(x = rDataFrame$age)\n",
        "rDataFrame_ageOutliers <- subset(rDataFrame, scaled_age > 3 | scaled_age < -3)\n",
        "summary(rDataFrame_ageOutliers)"
      ],
      "metadata": {
        "colab": {
          "base_uri": "https://localhost:8080/"
        },
        "id": "KxhMKRDBdEld",
        "outputId": "f96f6d1d-3341-42ad-b3dd-9b4956f3cfad"
      },
      "execution_count": 21,
      "outputs": [
        {
          "output_type": "stream",
          "name": "stdout",
          "text": [
            "      age         workclass           education      marital-status    \n",
            " Min.   :80.00   Length:60          Min.   : 2.000   Length:60         \n",
            " 1st Qu.:81.75   Class :character   1st Qu.: 6.750   Class :character  \n",
            " Median :84.50   Mode  :character   Median : 9.000   Mode  :character  \n",
            " Mean   :85.35                      Mean   : 9.183                     \n",
            " 3rd Qu.:90.00                      3rd Qu.:13.000                     \n",
            " Max.   :90.00                      Max.   :16.000                     \n",
            "  occupation            sex             capital-gain    capital-loss \n",
            " Length:60          Length:60          Min.   :    0   Min.   :   0  \n",
            " Class :character   Class :character   1st Qu.:    0   1st Qu.:   0  \n",
            " Mode  :character   Mode  :character   Median :    0   Median :   0  \n",
            "                                       Mean   :  687   Mean   : 149  \n",
            "                                       3rd Qu.:    0   3rd Qu.:   0  \n",
            "                                       Max.   :20051   Max.   :4356  \n",
            "    income          scaled_education.V1    scaled_age.V1   \n",
            " Length:60          Min.   :-3.1054180   Min.   :3.020173  \n",
            " Class :character   1st Qu.:-1.2772974   1st Qu.:3.148107  \n",
            " Mode  :character   Median :-0.4113455   Median :3.349147  \n",
            "                    Mean   :-0.3407865   Mean   :3.411287  \n",
            "                    3rd Qu.: 1.1281245   3rd Qu.:3.751227  \n",
            "                    Max.   : 2.2827270   Max.   :3.751227  \n"
          ]
        }
      ]
    },
    {
      "cell_type": "markdown",
      "source": [
        "Here again the results are confirmed with R and we can see that all the outliers in the age attribute fall on the higher end of the values (much more then the average)"
      ],
      "metadata": {
        "id": "IY7bFElfl-Up"
      }
    },
    {
      "cell_type": "markdown",
      "source": [
        "Since we can see from above that the outliers are all on the higher end, to find the most extreme outlier the max outlier (and its entire sample) will be taken from the dataFrame"
      ],
      "metadata": {
        "id": "iGwPgAWVmZg_"
      }
    },
    {
      "cell_type": "code",
      "source": [
        "#Identify most extreme outlier\n",
        "df_mt_outlier = df_age_outliers[df_age_outliers['age_scaled']==df_age_outliers['age_scaled'].max()]\n",
        "df_mt_outlier"
      ],
      "metadata": {
        "colab": {
          "base_uri": "https://localhost:8080/",
          "height": 815
        },
        "id": "M0HGoPFAdVh3",
        "outputId": "10f5f979-8714-4e1c-c75b-e534cbd7579f"
      },
      "execution_count": 22,
      "outputs": [
        {
          "output_type": "execute_result",
          "data": {
            "text/plain": [
              "       age         workclass  education      marital-status  \\\n",
              "99      90           Private          9       Never-married   \n",
              "492     90           Private          9       Never-married   \n",
              "885     90           Private         13  Married-civ-spouse   \n",
              "1066    90           Private         10       Never-married   \n",
              "2420    90           Private          5       Never-married   \n",
              "2467    90         Local-gov         14  Married-civ-spouse   \n",
              "2877    90  Self-emp-not-inc         13  Married-civ-spouse   \n",
              "4114    90                 ?          9             Widowed   \n",
              "4680    90  Self-emp-not-inc         10  Married-civ-spouse   \n",
              "5481    90           Private         13       Never-married   \n",
              "5936    90           Private          6  Married-civ-spouse   \n",
              "6476    90         Local-gov         12  Married-civ-spouse   \n",
              "7254    90           Private         13  Married-civ-spouse   \n",
              "8405    90           Private         13       Never-married   \n",
              "8608    90           Private         14       Never-married   \n",
              "8785    90           Private         10            Divorced   \n",
              "8921    90           Private          9  Married-civ-spouse   \n",
              "10158   90           Private         13       Never-married   \n",
              "11091   90                 ?          2             Widowed   \n",
              "11562   90                 ?          4           Separated   \n",
              "12948   90       Federal-gov          9  Married-civ-spouse   \n",
              "14091   90           Private          9  Married-civ-spouse   \n",
              "14660   90           Private          9             Widowed   \n",
              "\n",
              "              occupation     sex  capital-gain  capital-loss income  \\\n",
              "99         Other-service    Male             0          2206  <=50K   \n",
              "492        Other-service  Female             0             0  <=50K   \n",
              "885      Exec-managerial    Male             0             0  <=50K   \n",
              "1066       Other-service    Male             0             0  <=50K   \n",
              "2420        Adm-clerical  Female             0             0  <=50K   \n",
              "2467     Exec-managerial    Male         20051             0   >50K   \n",
              "2877      Prof-specialty    Male         10566             0  <=50K   \n",
              "4114                   ?  Female             0          4356  <=50K   \n",
              "4680     Farming-fishing    Male             0             0  <=50K   \n",
              "5481     Exec-managerial    Male             0             0  <=50K   \n",
              "5936     Exec-managerial    Male             0             0  <=50K   \n",
              "6476        Adm-clerical    Male             0             0  <=50K   \n",
              "7254     Exec-managerial  Female             0             0   >50K   \n",
              "8405      Prof-specialty  Female             0             0  <=50K   \n",
              "8608     Exec-managerial  Female             0             0  <=50K   \n",
              "8785               Sales  Female             0             0  <=50K   \n",
              "8921   Machine-op-inspct    Male             0             0  <=50K   \n",
              "10158     Prof-specialty    Male             0             0  <=50K   \n",
              "11091                  ?  Female             0             0  <=50K   \n",
              "11562                  ?  Female             0             0  <=50K   \n",
              "12948       Craft-repair    Male             0             0  <=50K   \n",
              "14091  Machine-op-inspct    Male             0             0  <=50K   \n",
              "14660       Adm-clerical  Female             0             0  <=50K   \n",
              "\n",
              "       education_scaled  age_scaled  \n",
              "99            -0.411359    3.751354  \n",
              "492           -0.411359    3.751354  \n",
              "885            1.128163    3.751354  \n",
              "1066          -0.026479    3.751354  \n",
              "2420          -1.950881    3.751354  \n",
              "2467           1.513043    3.751354  \n",
              "2877           1.128163    3.751354  \n",
              "4114          -0.411359    3.751354  \n",
              "4680          -0.026479    3.751354  \n",
              "5481           1.128163    3.751354  \n",
              "5936          -1.566001    3.751354  \n",
              "6476           0.743282    3.751354  \n",
              "7254           1.128163    3.751354  \n",
              "8405           1.128163    3.751354  \n",
              "8608           1.513043    3.751354  \n",
              "8785          -0.026479    3.751354  \n",
              "8921          -0.411359    3.751354  \n",
              "10158          1.128163    3.751354  \n",
              "11091         -3.105523    3.751354  \n",
              "11562         -2.335762    3.751354  \n",
              "12948         -0.411359    3.751354  \n",
              "14091         -0.411359    3.751354  \n",
              "14660         -0.411359    3.751354  "
            ],
            "text/html": [
              "\n",
              "  <div id=\"df-5cf0dfbc-24a8-4641-b0b6-f4f687fe1456\">\n",
              "    <div class=\"colab-df-container\">\n",
              "      <div>\n",
              "<style scoped>\n",
              "    .dataframe tbody tr th:only-of-type {\n",
              "        vertical-align: middle;\n",
              "    }\n",
              "\n",
              "    .dataframe tbody tr th {\n",
              "        vertical-align: top;\n",
              "    }\n",
              "\n",
              "    .dataframe thead th {\n",
              "        text-align: right;\n",
              "    }\n",
              "</style>\n",
              "<table border=\"1\" class=\"dataframe\">\n",
              "  <thead>\n",
              "    <tr style=\"text-align: right;\">\n",
              "      <th></th>\n",
              "      <th>age</th>\n",
              "      <th>workclass</th>\n",
              "      <th>education</th>\n",
              "      <th>marital-status</th>\n",
              "      <th>occupation</th>\n",
              "      <th>sex</th>\n",
              "      <th>capital-gain</th>\n",
              "      <th>capital-loss</th>\n",
              "      <th>income</th>\n",
              "      <th>education_scaled</th>\n",
              "      <th>age_scaled</th>\n",
              "    </tr>\n",
              "  </thead>\n",
              "  <tbody>\n",
              "    <tr>\n",
              "      <th>99</th>\n",
              "      <td>90</td>\n",
              "      <td>Private</td>\n",
              "      <td>9</td>\n",
              "      <td>Never-married</td>\n",
              "      <td>Other-service</td>\n",
              "      <td>Male</td>\n",
              "      <td>0</td>\n",
              "      <td>2206</td>\n",
              "      <td>&lt;=50K</td>\n",
              "      <td>-0.411359</td>\n",
              "      <td>3.751354</td>\n",
              "    </tr>\n",
              "    <tr>\n",
              "      <th>492</th>\n",
              "      <td>90</td>\n",
              "      <td>Private</td>\n",
              "      <td>9</td>\n",
              "      <td>Never-married</td>\n",
              "      <td>Other-service</td>\n",
              "      <td>Female</td>\n",
              "      <td>0</td>\n",
              "      <td>0</td>\n",
              "      <td>&lt;=50K</td>\n",
              "      <td>-0.411359</td>\n",
              "      <td>3.751354</td>\n",
              "    </tr>\n",
              "    <tr>\n",
              "      <th>885</th>\n",
              "      <td>90</td>\n",
              "      <td>Private</td>\n",
              "      <td>13</td>\n",
              "      <td>Married-civ-spouse</td>\n",
              "      <td>Exec-managerial</td>\n",
              "      <td>Male</td>\n",
              "      <td>0</td>\n",
              "      <td>0</td>\n",
              "      <td>&lt;=50K</td>\n",
              "      <td>1.128163</td>\n",
              "      <td>3.751354</td>\n",
              "    </tr>\n",
              "    <tr>\n",
              "      <th>1066</th>\n",
              "      <td>90</td>\n",
              "      <td>Private</td>\n",
              "      <td>10</td>\n",
              "      <td>Never-married</td>\n",
              "      <td>Other-service</td>\n",
              "      <td>Male</td>\n",
              "      <td>0</td>\n",
              "      <td>0</td>\n",
              "      <td>&lt;=50K</td>\n",
              "      <td>-0.026479</td>\n",
              "      <td>3.751354</td>\n",
              "    </tr>\n",
              "    <tr>\n",
              "      <th>2420</th>\n",
              "      <td>90</td>\n",
              "      <td>Private</td>\n",
              "      <td>5</td>\n",
              "      <td>Never-married</td>\n",
              "      <td>Adm-clerical</td>\n",
              "      <td>Female</td>\n",
              "      <td>0</td>\n",
              "      <td>0</td>\n",
              "      <td>&lt;=50K</td>\n",
              "      <td>-1.950881</td>\n",
              "      <td>3.751354</td>\n",
              "    </tr>\n",
              "    <tr>\n",
              "      <th>2467</th>\n",
              "      <td>90</td>\n",
              "      <td>Local-gov</td>\n",
              "      <td>14</td>\n",
              "      <td>Married-civ-spouse</td>\n",
              "      <td>Exec-managerial</td>\n",
              "      <td>Male</td>\n",
              "      <td>20051</td>\n",
              "      <td>0</td>\n",
              "      <td>&gt;50K</td>\n",
              "      <td>1.513043</td>\n",
              "      <td>3.751354</td>\n",
              "    </tr>\n",
              "    <tr>\n",
              "      <th>2877</th>\n",
              "      <td>90</td>\n",
              "      <td>Self-emp-not-inc</td>\n",
              "      <td>13</td>\n",
              "      <td>Married-civ-spouse</td>\n",
              "      <td>Prof-specialty</td>\n",
              "      <td>Male</td>\n",
              "      <td>10566</td>\n",
              "      <td>0</td>\n",
              "      <td>&lt;=50K</td>\n",
              "      <td>1.128163</td>\n",
              "      <td>3.751354</td>\n",
              "    </tr>\n",
              "    <tr>\n",
              "      <th>4114</th>\n",
              "      <td>90</td>\n",
              "      <td>?</td>\n",
              "      <td>9</td>\n",
              "      <td>Widowed</td>\n",
              "      <td>?</td>\n",
              "      <td>Female</td>\n",
              "      <td>0</td>\n",
              "      <td>4356</td>\n",
              "      <td>&lt;=50K</td>\n",
              "      <td>-0.411359</td>\n",
              "      <td>3.751354</td>\n",
              "    </tr>\n",
              "    <tr>\n",
              "      <th>4680</th>\n",
              "      <td>90</td>\n",
              "      <td>Self-emp-not-inc</td>\n",
              "      <td>10</td>\n",
              "      <td>Married-civ-spouse</td>\n",
              "      <td>Farming-fishing</td>\n",
              "      <td>Male</td>\n",
              "      <td>0</td>\n",
              "      <td>0</td>\n",
              "      <td>&lt;=50K</td>\n",
              "      <td>-0.026479</td>\n",
              "      <td>3.751354</td>\n",
              "    </tr>\n",
              "    <tr>\n",
              "      <th>5481</th>\n",
              "      <td>90</td>\n",
              "      <td>Private</td>\n",
              "      <td>13</td>\n",
              "      <td>Never-married</td>\n",
              "      <td>Exec-managerial</td>\n",
              "      <td>Male</td>\n",
              "      <td>0</td>\n",
              "      <td>0</td>\n",
              "      <td>&lt;=50K</td>\n",
              "      <td>1.128163</td>\n",
              "      <td>3.751354</td>\n",
              "    </tr>\n",
              "    <tr>\n",
              "      <th>5936</th>\n",
              "      <td>90</td>\n",
              "      <td>Private</td>\n",
              "      <td>6</td>\n",
              "      <td>Married-civ-spouse</td>\n",
              "      <td>Exec-managerial</td>\n",
              "      <td>Male</td>\n",
              "      <td>0</td>\n",
              "      <td>0</td>\n",
              "      <td>&lt;=50K</td>\n",
              "      <td>-1.566001</td>\n",
              "      <td>3.751354</td>\n",
              "    </tr>\n",
              "    <tr>\n",
              "      <th>6476</th>\n",
              "      <td>90</td>\n",
              "      <td>Local-gov</td>\n",
              "      <td>12</td>\n",
              "      <td>Married-civ-spouse</td>\n",
              "      <td>Adm-clerical</td>\n",
              "      <td>Male</td>\n",
              "      <td>0</td>\n",
              "      <td>0</td>\n",
              "      <td>&lt;=50K</td>\n",
              "      <td>0.743282</td>\n",
              "      <td>3.751354</td>\n",
              "    </tr>\n",
              "    <tr>\n",
              "      <th>7254</th>\n",
              "      <td>90</td>\n",
              "      <td>Private</td>\n",
              "      <td>13</td>\n",
              "      <td>Married-civ-spouse</td>\n",
              "      <td>Exec-managerial</td>\n",
              "      <td>Female</td>\n",
              "      <td>0</td>\n",
              "      <td>0</td>\n",
              "      <td>&gt;50K</td>\n",
              "      <td>1.128163</td>\n",
              "      <td>3.751354</td>\n",
              "    </tr>\n",
              "    <tr>\n",
              "      <th>8405</th>\n",
              "      <td>90</td>\n",
              "      <td>Private</td>\n",
              "      <td>13</td>\n",
              "      <td>Never-married</td>\n",
              "      <td>Prof-specialty</td>\n",
              "      <td>Female</td>\n",
              "      <td>0</td>\n",
              "      <td>0</td>\n",
              "      <td>&lt;=50K</td>\n",
              "      <td>1.128163</td>\n",
              "      <td>3.751354</td>\n",
              "    </tr>\n",
              "    <tr>\n",
              "      <th>8608</th>\n",
              "      <td>90</td>\n",
              "      <td>Private</td>\n",
              "      <td>14</td>\n",
              "      <td>Never-married</td>\n",
              "      <td>Exec-managerial</td>\n",
              "      <td>Female</td>\n",
              "      <td>0</td>\n",
              "      <td>0</td>\n",
              "      <td>&lt;=50K</td>\n",
              "      <td>1.513043</td>\n",
              "      <td>3.751354</td>\n",
              "    </tr>\n",
              "    <tr>\n",
              "      <th>8785</th>\n",
              "      <td>90</td>\n",
              "      <td>Private</td>\n",
              "      <td>10</td>\n",
              "      <td>Divorced</td>\n",
              "      <td>Sales</td>\n",
              "      <td>Female</td>\n",
              "      <td>0</td>\n",
              "      <td>0</td>\n",
              "      <td>&lt;=50K</td>\n",
              "      <td>-0.026479</td>\n",
              "      <td>3.751354</td>\n",
              "    </tr>\n",
              "    <tr>\n",
              "      <th>8921</th>\n",
              "      <td>90</td>\n",
              "      <td>Private</td>\n",
              "      <td>9</td>\n",
              "      <td>Married-civ-spouse</td>\n",
              "      <td>Machine-op-inspct</td>\n",
              "      <td>Male</td>\n",
              "      <td>0</td>\n",
              "      <td>0</td>\n",
              "      <td>&lt;=50K</td>\n",
              "      <td>-0.411359</td>\n",
              "      <td>3.751354</td>\n",
              "    </tr>\n",
              "    <tr>\n",
              "      <th>10158</th>\n",
              "      <td>90</td>\n",
              "      <td>Private</td>\n",
              "      <td>13</td>\n",
              "      <td>Never-married</td>\n",
              "      <td>Prof-specialty</td>\n",
              "      <td>Male</td>\n",
              "      <td>0</td>\n",
              "      <td>0</td>\n",
              "      <td>&lt;=50K</td>\n",
              "      <td>1.128163</td>\n",
              "      <td>3.751354</td>\n",
              "    </tr>\n",
              "    <tr>\n",
              "      <th>11091</th>\n",
              "      <td>90</td>\n",
              "      <td>?</td>\n",
              "      <td>2</td>\n",
              "      <td>Widowed</td>\n",
              "      <td>?</td>\n",
              "      <td>Female</td>\n",
              "      <td>0</td>\n",
              "      <td>0</td>\n",
              "      <td>&lt;=50K</td>\n",
              "      <td>-3.105523</td>\n",
              "      <td>3.751354</td>\n",
              "    </tr>\n",
              "    <tr>\n",
              "      <th>11562</th>\n",
              "      <td>90</td>\n",
              "      <td>?</td>\n",
              "      <td>4</td>\n",
              "      <td>Separated</td>\n",
              "      <td>?</td>\n",
              "      <td>Female</td>\n",
              "      <td>0</td>\n",
              "      <td>0</td>\n",
              "      <td>&lt;=50K</td>\n",
              "      <td>-2.335762</td>\n",
              "      <td>3.751354</td>\n",
              "    </tr>\n",
              "    <tr>\n",
              "      <th>12948</th>\n",
              "      <td>90</td>\n",
              "      <td>Federal-gov</td>\n",
              "      <td>9</td>\n",
              "      <td>Married-civ-spouse</td>\n",
              "      <td>Craft-repair</td>\n",
              "      <td>Male</td>\n",
              "      <td>0</td>\n",
              "      <td>0</td>\n",
              "      <td>&lt;=50K</td>\n",
              "      <td>-0.411359</td>\n",
              "      <td>3.751354</td>\n",
              "    </tr>\n",
              "    <tr>\n",
              "      <th>14091</th>\n",
              "      <td>90</td>\n",
              "      <td>Private</td>\n",
              "      <td>9</td>\n",
              "      <td>Married-civ-spouse</td>\n",
              "      <td>Machine-op-inspct</td>\n",
              "      <td>Male</td>\n",
              "      <td>0</td>\n",
              "      <td>0</td>\n",
              "      <td>&lt;=50K</td>\n",
              "      <td>-0.411359</td>\n",
              "      <td>3.751354</td>\n",
              "    </tr>\n",
              "    <tr>\n",
              "      <th>14660</th>\n",
              "      <td>90</td>\n",
              "      <td>Private</td>\n",
              "      <td>9</td>\n",
              "      <td>Widowed</td>\n",
              "      <td>Adm-clerical</td>\n",
              "      <td>Female</td>\n",
              "      <td>0</td>\n",
              "      <td>0</td>\n",
              "      <td>&lt;=50K</td>\n",
              "      <td>-0.411359</td>\n",
              "      <td>3.751354</td>\n",
              "    </tr>\n",
              "  </tbody>\n",
              "</table>\n",
              "</div>\n",
              "      <button class=\"colab-df-convert\" onclick=\"convertToInteractive('df-5cf0dfbc-24a8-4641-b0b6-f4f687fe1456')\"\n",
              "              title=\"Convert this dataframe to an interactive table.\"\n",
              "              style=\"display:none;\">\n",
              "        \n",
              "  <svg xmlns=\"http://www.w3.org/2000/svg\" height=\"24px\"viewBox=\"0 0 24 24\"\n",
              "       width=\"24px\">\n",
              "    <path d=\"M0 0h24v24H0V0z\" fill=\"none\"/>\n",
              "    <path d=\"M18.56 5.44l.94 2.06.94-2.06 2.06-.94-2.06-.94-.94-2.06-.94 2.06-2.06.94zm-11 1L8.5 8.5l.94-2.06 2.06-.94-2.06-.94L8.5 2.5l-.94 2.06-2.06.94zm10 10l.94 2.06.94-2.06 2.06-.94-2.06-.94-.94-2.06-.94 2.06-2.06.94z\"/><path d=\"M17.41 7.96l-1.37-1.37c-.4-.4-.92-.59-1.43-.59-.52 0-1.04.2-1.43.59L10.3 9.45l-7.72 7.72c-.78.78-.78 2.05 0 2.83L4 21.41c.39.39.9.59 1.41.59.51 0 1.02-.2 1.41-.59l7.78-7.78 2.81-2.81c.8-.78.8-2.07 0-2.86zM5.41 20L4 18.59l7.72-7.72 1.47 1.35L5.41 20z\"/>\n",
              "  </svg>\n",
              "      </button>\n",
              "      \n",
              "  <style>\n",
              "    .colab-df-container {\n",
              "      display:flex;\n",
              "      flex-wrap:wrap;\n",
              "      gap: 12px;\n",
              "    }\n",
              "\n",
              "    .colab-df-convert {\n",
              "      background-color: #E8F0FE;\n",
              "      border: none;\n",
              "      border-radius: 50%;\n",
              "      cursor: pointer;\n",
              "      display: none;\n",
              "      fill: #1967D2;\n",
              "      height: 32px;\n",
              "      padding: 0 0 0 0;\n",
              "      width: 32px;\n",
              "    }\n",
              "\n",
              "    .colab-df-convert:hover {\n",
              "      background-color: #E2EBFA;\n",
              "      box-shadow: 0px 1px 2px rgba(60, 64, 67, 0.3), 0px 1px 3px 1px rgba(60, 64, 67, 0.15);\n",
              "      fill: #174EA6;\n",
              "    }\n",
              "\n",
              "    [theme=dark] .colab-df-convert {\n",
              "      background-color: #3B4455;\n",
              "      fill: #D2E3FC;\n",
              "    }\n",
              "\n",
              "    [theme=dark] .colab-df-convert:hover {\n",
              "      background-color: #434B5C;\n",
              "      box-shadow: 0px 1px 3px 1px rgba(0, 0, 0, 0.15);\n",
              "      filter: drop-shadow(0px 1px 2px rgba(0, 0, 0, 0.3));\n",
              "      fill: #FFFFFF;\n",
              "    }\n",
              "  </style>\n",
              "\n",
              "      <script>\n",
              "        const buttonEl =\n",
              "          document.querySelector('#df-5cf0dfbc-24a8-4641-b0b6-f4f687fe1456 button.colab-df-convert');\n",
              "        buttonEl.style.display =\n",
              "          google.colab.kernel.accessAllowed ? 'block' : 'none';\n",
              "\n",
              "        async function convertToInteractive(key) {\n",
              "          const element = document.querySelector('#df-5cf0dfbc-24a8-4641-b0b6-f4f687fe1456');\n",
              "          const dataTable =\n",
              "            await google.colab.kernel.invokeFunction('convertToInteractive',\n",
              "                                                     [key], {});\n",
              "          if (!dataTable) return;\n",
              "\n",
              "          const docLinkHtml = 'Like what you see? Visit the ' +\n",
              "            '<a target=\"_blank\" href=https://colab.research.google.com/notebooks/data_table.ipynb>data table notebook</a>'\n",
              "            + ' to learn more about interactive tables.';\n",
              "          element.innerHTML = '';\n",
              "          dataTable['output_type'] = 'display_data';\n",
              "          await google.colab.output.renderOutput(dataTable, element);\n",
              "          const docLink = document.createElement('div');\n",
              "          docLink.innerHTML = docLinkHtml;\n",
              "          element.appendChild(docLink);\n",
              "        }\n",
              "      </script>\n",
              "    </div>\n",
              "  </div>\n",
              "  "
            ]
          },
          "metadata": {},
          "execution_count": 22
        }
      ]
    },
    {
      "cell_type": "code",
      "source": [
        "#R identify most extreme outlier\n",
        "%%R\n",
        "\n",
        "r_df_mt_outliers <- rDataFrame_ageOutliers[rDataFrame_ageOutliers$scaled_age == max(rDataFrame_ageOutliers$scaled_age),]\n",
        "r_df_mt_outliers"
      ],
      "metadata": {
        "colab": {
          "base_uri": "https://localhost:8080/"
        },
        "id": "ckfbBDVOmW1y",
        "outputId": "a6640592-9641-49ec-c383-0f47ebe31f4e"
      },
      "execution_count": 23,
      "outputs": [
        {
          "output_type": "stream",
          "name": "stdout",
          "text": [
            "# A tibble: 23 × 11\n",
            "     age workclass    education `marital-status` occupation sex   `capital-gain`\n",
            "   <dbl> <chr>            <dbl> <chr>            <chr>      <chr>          <dbl>\n",
            " 1    90 Private              9 Never-married    Other-ser… Male               0\n",
            " 2    90 Private              9 Never-married    Other-ser… Fema…              0\n",
            " 3    90 Private             13 Married-civ-spo… Exec-mana… Male               0\n",
            " 4    90 Private             10 Never-married    Other-ser… Male               0\n",
            " 5    90 Private              5 Never-married    Adm-cleri… Fema…              0\n",
            " 6    90 Local-gov           14 Married-civ-spo… Exec-mana… Male           20051\n",
            " 7    90 Self-emp-no…        13 Married-civ-spo… Prof-spec… Male           10566\n",
            " 8    90 ?                    9 Widowed          ?          Fema…              0\n",
            " 9    90 Self-emp-no…        10 Married-civ-spo… Farming-f… Male               0\n",
            "10    90 Private             13 Never-married    Exec-mana… Male               0\n",
            "# … with 13 more rows, and 4 more variables: `capital-loss` <dbl>,\n",
            "#   income <chr>, scaled_education <dbl[,1]>, scaled_age <dbl[,1]>\n"
          ]
        }
      ]
    },
    {
      "cell_type": "markdown",
      "source": [
        "The results above show a larger number of 90 year olds in this study then would have been expected. The dataset is rather large though so it may be possible that overall it contains a larger amount of elderly samples then orginally expected. The only common factor between the outlier samples is the workclass is majority private (which from the results shown above matches the rest of the dataset) and the income is majority under 50k."
      ],
      "metadata": {
        "id": "L1qXJ65ynoMU"
      }
    },
    {
      "cell_type": "markdown",
      "source": [
        "To find out more about the eldery samples in this dataset a subset will be created of only samples above age 80 and the distribution of the subset will then be plotted with a histogram."
      ],
      "metadata": {
        "id": "kLTxRob7n3P8"
      }
    },
    {
      "cell_type": "code",
      "source": [
        "#Python histogram of all ages over 80\n",
        "dataFrame_over80 = dataFrame.query('age > 80')\n",
        "dataFrame_over80.describe()"
      ],
      "metadata": {
        "colab": {
          "base_uri": "https://localhost:8080/",
          "height": 300
        },
        "id": "JGmpmocCoETr",
        "outputId": "9910ea2a-5ade-45cc-d7fc-e613a1721cfd"
      },
      "execution_count": 24,
      "outputs": [
        {
          "output_type": "execute_result",
          "data": {
            "text/plain": [
              "             age  education  capital-gain  capital-loss  education_scaled  \\\n",
              "count  50.000000   50.00000      50.00000     50.000000         50.000000   \n",
              "mean   86.420000    8.98000     612.34000    178.780000         -0.419057   \n",
              "std     3.676123    3.59983    3178.16191    754.485723          1.385504   \n",
              "min    81.000000    2.00000       0.00000      0.000000         -3.105523   \n",
              "25%    82.250000    6.75000       0.00000      0.000000         -1.277341   \n",
              "50%    87.500000    9.00000       0.00000      0.000000         -0.411359   \n",
              "75%    90.000000   12.75000       0.00000      0.000000          1.031942   \n",
              "max    90.000000   15.00000   20051.00000   4356.000000          1.897924   \n",
              "\n",
              "       age_scaled  \n",
              "count   50.000000  \n",
              "mean     3.489627  \n",
              "std      0.268754  \n",
              "min      3.093383  \n",
              "25%      3.184768  \n",
              "50%      3.568584  \n",
              "75%      3.751354  \n",
              "max      3.751354  "
            ],
            "text/html": [
              "\n",
              "  <div id=\"df-65bcf383-3309-478a-ad56-45e758d0abef\">\n",
              "    <div class=\"colab-df-container\">\n",
              "      <div>\n",
              "<style scoped>\n",
              "    .dataframe tbody tr th:only-of-type {\n",
              "        vertical-align: middle;\n",
              "    }\n",
              "\n",
              "    .dataframe tbody tr th {\n",
              "        vertical-align: top;\n",
              "    }\n",
              "\n",
              "    .dataframe thead th {\n",
              "        text-align: right;\n",
              "    }\n",
              "</style>\n",
              "<table border=\"1\" class=\"dataframe\">\n",
              "  <thead>\n",
              "    <tr style=\"text-align: right;\">\n",
              "      <th></th>\n",
              "      <th>age</th>\n",
              "      <th>education</th>\n",
              "      <th>capital-gain</th>\n",
              "      <th>capital-loss</th>\n",
              "      <th>education_scaled</th>\n",
              "      <th>age_scaled</th>\n",
              "    </tr>\n",
              "  </thead>\n",
              "  <tbody>\n",
              "    <tr>\n",
              "      <th>count</th>\n",
              "      <td>50.000000</td>\n",
              "      <td>50.00000</td>\n",
              "      <td>50.00000</td>\n",
              "      <td>50.000000</td>\n",
              "      <td>50.000000</td>\n",
              "      <td>50.000000</td>\n",
              "    </tr>\n",
              "    <tr>\n",
              "      <th>mean</th>\n",
              "      <td>86.420000</td>\n",
              "      <td>8.98000</td>\n",
              "      <td>612.34000</td>\n",
              "      <td>178.780000</td>\n",
              "      <td>-0.419057</td>\n",
              "      <td>3.489627</td>\n",
              "    </tr>\n",
              "    <tr>\n",
              "      <th>std</th>\n",
              "      <td>3.676123</td>\n",
              "      <td>3.59983</td>\n",
              "      <td>3178.16191</td>\n",
              "      <td>754.485723</td>\n",
              "      <td>1.385504</td>\n",
              "      <td>0.268754</td>\n",
              "    </tr>\n",
              "    <tr>\n",
              "      <th>min</th>\n",
              "      <td>81.000000</td>\n",
              "      <td>2.00000</td>\n",
              "      <td>0.00000</td>\n",
              "      <td>0.000000</td>\n",
              "      <td>-3.105523</td>\n",
              "      <td>3.093383</td>\n",
              "    </tr>\n",
              "    <tr>\n",
              "      <th>25%</th>\n",
              "      <td>82.250000</td>\n",
              "      <td>6.75000</td>\n",
              "      <td>0.00000</td>\n",
              "      <td>0.000000</td>\n",
              "      <td>-1.277341</td>\n",
              "      <td>3.184768</td>\n",
              "    </tr>\n",
              "    <tr>\n",
              "      <th>50%</th>\n",
              "      <td>87.500000</td>\n",
              "      <td>9.00000</td>\n",
              "      <td>0.00000</td>\n",
              "      <td>0.000000</td>\n",
              "      <td>-0.411359</td>\n",
              "      <td>3.568584</td>\n",
              "    </tr>\n",
              "    <tr>\n",
              "      <th>75%</th>\n",
              "      <td>90.000000</td>\n",
              "      <td>12.75000</td>\n",
              "      <td>0.00000</td>\n",
              "      <td>0.000000</td>\n",
              "      <td>1.031942</td>\n",
              "      <td>3.751354</td>\n",
              "    </tr>\n",
              "    <tr>\n",
              "      <th>max</th>\n",
              "      <td>90.000000</td>\n",
              "      <td>15.00000</td>\n",
              "      <td>20051.00000</td>\n",
              "      <td>4356.000000</td>\n",
              "      <td>1.897924</td>\n",
              "      <td>3.751354</td>\n",
              "    </tr>\n",
              "  </tbody>\n",
              "</table>\n",
              "</div>\n",
              "      <button class=\"colab-df-convert\" onclick=\"convertToInteractive('df-65bcf383-3309-478a-ad56-45e758d0abef')\"\n",
              "              title=\"Convert this dataframe to an interactive table.\"\n",
              "              style=\"display:none;\">\n",
              "        \n",
              "  <svg xmlns=\"http://www.w3.org/2000/svg\" height=\"24px\"viewBox=\"0 0 24 24\"\n",
              "       width=\"24px\">\n",
              "    <path d=\"M0 0h24v24H0V0z\" fill=\"none\"/>\n",
              "    <path d=\"M18.56 5.44l.94 2.06.94-2.06 2.06-.94-2.06-.94-.94-2.06-.94 2.06-2.06.94zm-11 1L8.5 8.5l.94-2.06 2.06-.94-2.06-.94L8.5 2.5l-.94 2.06-2.06.94zm10 10l.94 2.06.94-2.06 2.06-.94-2.06-.94-.94-2.06-.94 2.06-2.06.94z\"/><path d=\"M17.41 7.96l-1.37-1.37c-.4-.4-.92-.59-1.43-.59-.52 0-1.04.2-1.43.59L10.3 9.45l-7.72 7.72c-.78.78-.78 2.05 0 2.83L4 21.41c.39.39.9.59 1.41.59.51 0 1.02-.2 1.41-.59l7.78-7.78 2.81-2.81c.8-.78.8-2.07 0-2.86zM5.41 20L4 18.59l7.72-7.72 1.47 1.35L5.41 20z\"/>\n",
              "  </svg>\n",
              "      </button>\n",
              "      \n",
              "  <style>\n",
              "    .colab-df-container {\n",
              "      display:flex;\n",
              "      flex-wrap:wrap;\n",
              "      gap: 12px;\n",
              "    }\n",
              "\n",
              "    .colab-df-convert {\n",
              "      background-color: #E8F0FE;\n",
              "      border: none;\n",
              "      border-radius: 50%;\n",
              "      cursor: pointer;\n",
              "      display: none;\n",
              "      fill: #1967D2;\n",
              "      height: 32px;\n",
              "      padding: 0 0 0 0;\n",
              "      width: 32px;\n",
              "    }\n",
              "\n",
              "    .colab-df-convert:hover {\n",
              "      background-color: #E2EBFA;\n",
              "      box-shadow: 0px 1px 2px rgba(60, 64, 67, 0.3), 0px 1px 3px 1px rgba(60, 64, 67, 0.15);\n",
              "      fill: #174EA6;\n",
              "    }\n",
              "\n",
              "    [theme=dark] .colab-df-convert {\n",
              "      background-color: #3B4455;\n",
              "      fill: #D2E3FC;\n",
              "    }\n",
              "\n",
              "    [theme=dark] .colab-df-convert:hover {\n",
              "      background-color: #434B5C;\n",
              "      box-shadow: 0px 1px 3px 1px rgba(0, 0, 0, 0.15);\n",
              "      filter: drop-shadow(0px 1px 2px rgba(0, 0, 0, 0.3));\n",
              "      fill: #FFFFFF;\n",
              "    }\n",
              "  </style>\n",
              "\n",
              "      <script>\n",
              "        const buttonEl =\n",
              "          document.querySelector('#df-65bcf383-3309-478a-ad56-45e758d0abef button.colab-df-convert');\n",
              "        buttonEl.style.display =\n",
              "          google.colab.kernel.accessAllowed ? 'block' : 'none';\n",
              "\n",
              "        async function convertToInteractive(key) {\n",
              "          const element = document.querySelector('#df-65bcf383-3309-478a-ad56-45e758d0abef');\n",
              "          const dataTable =\n",
              "            await google.colab.kernel.invokeFunction('convertToInteractive',\n",
              "                                                     [key], {});\n",
              "          if (!dataTable) return;\n",
              "\n",
              "          const docLinkHtml = 'Like what you see? Visit the ' +\n",
              "            '<a target=\"_blank\" href=https://colab.research.google.com/notebooks/data_table.ipynb>data table notebook</a>'\n",
              "            + ' to learn more about interactive tables.';\n",
              "          element.innerHTML = '';\n",
              "          dataTable['output_type'] = 'display_data';\n",
              "          await google.colab.output.renderOutput(dataTable, element);\n",
              "          const docLink = document.createElement('div');\n",
              "          docLink.innerHTML = docLinkHtml;\n",
              "          element.appendChild(docLink);\n",
              "        }\n",
              "      </script>\n",
              "    </div>\n",
              "  </div>\n",
              "  "
            ]
          },
          "metadata": {},
          "execution_count": 24
        }
      ]
    },
    {
      "cell_type": "code",
      "source": [
        "#R histogram of all ages over 80\n",
        "%%R\n",
        "\n",
        "rDataFrame_over80 <- subset(rDataFrame, age > 80)\n",
        "summary(rDataFrame_over80)"
      ],
      "metadata": {
        "colab": {
          "base_uri": "https://localhost:8080/"
        },
        "id": "TFQ9ueDAovgE",
        "outputId": "c7a7529e-016e-4a1e-c2cb-1a8eeb78e6fc"
      },
      "execution_count": 25,
      "outputs": [
        {
          "output_type": "stream",
          "name": "stdout",
          "text": [
            "      age         workclass           education     marital-status    \n",
            " Min.   :81.00   Length:50          Min.   : 2.00   Length:50         \n",
            " 1st Qu.:82.25   Class :character   1st Qu.: 6.75   Class :character  \n",
            " Median :87.50   Mode  :character   Median : 9.00   Mode  :character  \n",
            " Mean   :86.42                      Mean   : 8.98                     \n",
            " 3rd Qu.:90.00                      3rd Qu.:12.75                     \n",
            " Max.   :90.00                      Max.   :15.00                     \n",
            "  occupation            sex             capital-gain      capital-loss   \n",
            " Length:50          Length:50          Min.   :    0.0   Min.   :   0.0  \n",
            " Class :character   Class :character   1st Qu.:    0.0   1st Qu.:   0.0  \n",
            " Mode  :character   Mode  :character   Median :    0.0   Median :   0.0  \n",
            "                                       Mean   :  612.3   Mean   : 178.8  \n",
            "                                       3rd Qu.:    0.0   3rd Qu.:   0.0  \n",
            "                                       Max.   :20051.0   Max.   :4356.0  \n",
            "    income          scaled_education.V1    scaled_age.V1   \n",
            " Length:50          Min.   :-3.1054180   Min.   :3.093278  \n",
            " Class :character   1st Qu.:-1.2772974   1st Qu.:3.184660  \n",
            " Mode  :character   Median :-0.4113455   Median :3.568463  \n",
            "                    Mean   :-0.4190429   Mean   :3.489510  \n",
            "                    3rd Qu.: 1.0319076   3rd Qu.:3.751227  \n",
            "                    Max.   : 1.8978595   Max.   :3.751227  \n"
          ]
        }
      ]
    },
    {
      "cell_type": "code",
      "source": [
        "#Python histogram\n",
        "dataFrame_over80.age.hist()"
      ],
      "metadata": {
        "colab": {
          "base_uri": "https://localhost:8080/",
          "height": 283
        },
        "id": "8nSkj2-ipkWH",
        "outputId": "46400448-2c0b-4353-e5b7-b1a8df99cadb"
      },
      "execution_count": 34,
      "outputs": [
        {
          "output_type": "execute_result",
          "data": {
            "text/plain": [
              "<matplotlib.axes._subplots.AxesSubplot at 0x7f6efc9e44d0>"
            ]
          },
          "metadata": {},
          "execution_count": 34
        },
        {
          "output_type": "display_data",
          "data": {
            "text/plain": [
              "<Figure size 432x288 with 1 Axes>"
            ],
            "image/png": "[encoded data removed]"
          },
          "metadata": {
            "needs_background": "light"
          }
        }
      ]
    },
    {
      "cell_type": "code",
      "source": [
        "#R histogram\n",
        "%%R\n",
        "\n",
        "hist(rDataFrame_over80$age, col=\"blue\")"
      ],
      "metadata": {
        "colab": {
          "base_uri": "https://localhost:8080/",
          "height": 497
        },
        "id": "VPeoPe_dpumx",
        "outputId": "0044936d-89fe-474e-a906-8cc7070df4a1"
      },
      "execution_count": 33,
      "outputs": [
        {
          "output_type": "display_data",
          "data": {
            "image/png": "[encoded data removed]"
          },
          "metadata": {}
        }
      ]
    },
    {
      "cell_type": "markdown",
      "source": [
        "The histograms results above are odd because they do not match even though the subsets are both the same size, and from the results of the R summary command and the python describe commad have the exact same max, min, and mean for there age attributes. I am somewhat new to R and may have made a mistake in the histogram plot that I am unaware of. From looking at just the python histogram we can see that the majority of samples over 80 in the dataset are age 90, which is strange. If the elderly population was sampled one would assume the age distribution would be less concentrated. One hypothesis that can be made is that age 90 may be used to represent ages which are unknown in this dataset. "
      ],
      "metadata": {
        "id": "H0yCl_s4qp_7"
      }
    },
    {
      "cell_type": "markdown",
      "source": [
        "**Summary**\n",
        "\n",
        "The findings of the above report can be summarized as follows:\n",
        "\n",
        "The first cross tabulation of workclass and gender showed that there are more males sampled in the dataset then females and that the majority of the people sampled work in the private sector.\n",
        "\n",
        "The next cross tabulation of gender and martial status showed that majority of male are matrial status category Married-Civ-Spouse, while the majortiy of females are martial status category Never-Married.\n",
        "\n",
        "The next cross tabulation was the same as the one above but only for sample greater age 40, this confirmed an earlier hypothesis that the majority of samples over 40 in the dataset were male.\n",
        "\n",
        "Outliers were found in both the education and the age column, the ages columns outliers were skewed with the majority of extreme outliers (above age 80) being the same age (90). This may indicate that the age 90 is used when an age is unknown, or is as high as the dataset goes (91, 91... would just be 90). "
      ],
      "metadata": {
        "id": "0akPLtPQ0D5u"
      }
    }
  ]
}